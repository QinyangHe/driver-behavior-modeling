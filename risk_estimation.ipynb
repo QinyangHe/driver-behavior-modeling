{
 "cells": [
  {
   "cell_type": "code",
   "execution_count": 2,
   "metadata": {},
   "outputs": [],
   "source": [
    "import pandas as pd\n",
    "import numpy as py"
   ]
  },
  {
   "cell_type": "code",
   "execution_count": null,
   "metadata": {},
   "outputs": [],
   "source": [
    "#feature list\n",
    "features = ['max_deceleration', 'max_turn_rate',]\n",
    "labels = ['crash','near_crash', 'no_crash']"
   ]
  },
  {
   "cell_type": "code",
   "execution_count": null,
   "metadata": {},
   "outputs": [],
   "source": [
    "def p_max_deceleration(max_decel):\n",
    "    '''\n",
    "    output the probability of 3 classes given max deceleration during the trip\n",
    "    '''\n",
    "    if max_decel <= -0.7:\n",
    "        p_crash = 488/4184\n",
    "        p_near_crash = 3355/4184\n",
    "        p_no_crash = 1-p_crash-p_near_crash\n",
    "    elif -0.7 < max_decel <= -0.6:\n",
    "        p_crash = 166/2148\n",
    "        p_near_crash = 1470/2148\n",
    "        p_no_crash = 1-p_crash-p_near_crash\n",
    "    elif -0.6 < max_decel <= -0.5:\n",
    "        p_crash = 182/2590\n",
    "        p_near_crash = 1742/2590\n",
    "        p_no_crash = 1-p_crash-p_near_crash\n",
    "    elif -0.5 < max_decel <= -0.4:\n",
    "        p_crash = 311/7855\n",
    "        p_near_crash = 688/7855\n",
    "        p_no_crash = 1-p_crash-p_near_crash\n",
    "    elif -0.4 < max_decel <= -0.3:\n",
    "        p_crash = 477/15927\n",
    "        p_near_crash = 368/15927\n",
    "        p_no_crash = 1-p_crash-p_near_crash\n",
    "    elif -0.3 < max_decel <= -0.2:\n",
    "        p_crash = 147/6787\n",
    "        p_near_crash = 53/6787\n",
    "        p_no_crash = 1-p_crash-p_near_crash\n",
    "    elif -0.2 < max_decel <= -0.1:\n",
    "        p_crash = 15/253\n",
    "        p_near_crash = 5/253\n",
    "        p_no_crash = 1-p_crash-p_near_crash\n",
    "    elif -0.1 < max_decel <= 0:\n",
    "        p_crash = 1/22\n",
    "        p_near_crash = 2/22\n",
    "        p_no_crash = 1-p_crash-p_near_crash\n",
    "    else:\n",
    "        p_crash = 1/9\n",
    "        p_near_crash = 0.1/9\n",
    "        p_no_crash = 1-p_crash-p_near_crash\n",
    "    \n",
    "    return p_crash,p_near_crash,p_no_crash"
   ]
  },
  {
   "cell_type": "code",
   "execution_count": null,
   "metadata": {},
   "outputs": [],
   "source": [
    "def p_max_turn_rate(max_turn_rate):\n",
    "    '''\n",
    "    output the probability of 3 classes given max deceleration during the trip\n",
    "    '''\n",
    "    if max_turn_rate <= 0:\n",
    "        p_crash = 0.01/7\n",
    "        p_near_crash = 3/7\n",
    "        p_no_crash = 1-p_crash-p_near_crash\n",
    "    elif 0 < max_turn_rate <= 5:\n",
    "        p_crash = 14/122\n",
    "        p_near_crash = 12/122\n",
    "        p_no_crash = 1-p_crash-p_near_crash\n",
    "    elif 5 < max_turn_rate <= 10:\n",
    "        p_crash = 17/203\n",
    "        p_near_crash = 26/203\n",
    "        p_no_crash = 1-p_crash-p_near_crash\n",
    "    elif 10< max_turn_rate <= 15:\n",
    "        p_crash = 30/388\n",
    "        p_near_crash = 47/388\n",
    "        p_no_crash = 1-p_crash-p_near_crash\n",
    "    elif 15< max_turn_rate <= 20:\n",
    "        p_crash = 62/1334\n",
    "        p_near_crash = 150/1334\n",
    "        p_no_crash = 1-p_crash-p_near_crash\n",
    "    elif 20 < max_turn_rate <= 25:\n",
    "        p_crash = 263/7154\n",
    "        p_near_crash = 801/7154\n",
    "        p_no_crash = 1-p_crash-p_near_crash\n",
    "    elif 25 < max_turn_rate <= 30:\n",
    "        p_crash = 599/15259\n",
    "        p_near_crash = 2297/15259\n",
    "        p_no_crash = 1-p_crash-p_near_crash\n",
    "    elif 30 < max_turn_rate <= 35:\n",
    "        p_crash = 418/9820\n",
    "        p_near_crash = 1843/9520\n",
    "        p_no_crash = 1-p_crash-p_near_crash\n",
    "    else:\n",
    "        p_crash = 330/4502\n",
    "        p_near_crash = 1128/4502\n",
    "        p_no_crash = 1-p_crash-p_near_crash\n",
    "    \n",
    "    return p_crash,p_near_crash,p_no_crash"
   ]
  },
  {
   "cell_type": "code",
   "execution_count": null,
   "metadata": {},
   "outputs": [],
   "source": [
    "def p_cellphone_flag(cellphone_flag):\n",
    "    \"\"\"\n",
    "    flag 0 = no records\n",
    "        1 = no cell phone usage indicated\n",
    "        2 = cell phone usage likely\n",
    "    \"\"\"\n",
    "    if cellphone_flag == 0:\n",
    "        p_crash = 1626/35235\n",
    "        p_near_crash = 5841/35235\n",
    "        p_no_crash = 1-p_crash-p_near_crash\n",
    "    elif cellphone_flag == 1:\n",
    "        p_crash = 122/3431\n",
    "        p_near_crash = 535/3431\n",
    "        p_no_crash = 1-p_crash-p_near_crash\n",
    "    else:\n",
    "        p_crash = 76/1964\n",
    "        p_near_crash = 336/1964\n",
    "        p_no_crash = 1-p_crash-p_near_crash\n",
    "    return p_crash,p_near_crash,p_no_crash"
   ]
  },
  {
   "cell_type": "code",
   "execution_count": null,
   "metadata": {},
   "outputs": [],
   "source": [
    "def p_nightdrive(nightdrive):\n",
    "    if nightdrive == 1:\n",
    "        p_crash = 122/3431\n",
    "        p_near_crash = 535/3431\n",
    "        p_no_crash = 1-p_crash-p_near_crash\n",
    "    "
   ]
  },
  {
   "cell_type": "code",
   "execution_count": null,
   "metadata": {},
   "outputs": [],
   "source": [
    "def p_max_speed(max_speed):\n",
    "\n",
    "    if 0 < max_speed <= 15:\n",
    "        p_crash = 86/1054\n",
    "        p_near_crash = 292/1054\n",
    "        p_no_crash = 1-p_crash-p_near_crash\n",
    "    elif 15 < max_speed <= 30:\n",
    "        p_crash = 24/73\n",
    "        p_near_crash = 7/73\n",
    "        p_no_crash = 1-p_crash-p_near_crash\n",
    "    elif 30< max_speed <= 45:\n",
    "        p_crash = 59/345\n",
    "        p_near_crash = 45/345\n",
    "        p_no_crash = 1-p_crash-p_near_crash\n",
    "    elif 45< max_speed <= 60:\n",
    "        p_crash = 194/2087\n",
    "        p_near_crash = 300/2087\n",
    "        p_no_crash = 1-p_crash-p_near_crash\n",
    "    elif 60< max_speed <= 75:\n",
    "        p_crash = 353/5988\n",
    "        p_near_crash = 853/5988\n",
    "        p_no_crash = 1-p_crash-p_near_crash\n",
    "    elif 75 < max_speed <= 90:\n",
    "        p_crash = 395/7676\n",
    "        p_near_crash = 1-38/7676\n",
    "        p_no_crash = 1-p_crash-p_near_crash\n",
    "    elif 90 < max_speed <= 105:\n",
    "        p_crash = 278/6869\n",
    "        p_near_crash = 990/6869\n",
    "        p_no_crash = 1-p_crash-p_near_crash\n",
    "    elif 105 < max_speed < 120:\n",
    "        p_crash = 272/9008\n",
    "        p_near_crash = 1704/9008\n",
    "        p_no_crash = 1-p_crash-p_near_crash\n",
    "    else:\n",
    "        p_crash = 144/6552\n",
    "        p_near_crash = 1417/6552\n",
    "        p_no_crash = 1-p_crash-p_near_crash\n",
    "    \n",
    "    return p_crash,p_near_crash,p_no_crash"
   ]
  },
  {
   "cell_type": "code",
   "execution_count": 7,
   "metadata": {},
   "outputs": [
    {
     "data": {
      "text/plain": [
       "0"
      ]
     },
     "execution_count": 7,
     "metadata": {},
     "output_type": "execute_result"
    }
   ],
   "source": [
    "len(0 * \" \")"
   ]
  },
  {
   "cell_type": "code",
   "execution_count": 9,
   "metadata": {},
   "outputs": [],
   "source": [
    "for i in range(1,1):\n",
    "    print(i)"
   ]
  },
  {
   "cell_type": "code",
   "execution_count": 10,
   "metadata": {},
   "outputs": [
    {
     "data": {
      "text/plain": [
       "False"
      ]
     },
     "execution_count": 10,
     "metadata": {},
     "output_type": "execute_result"
    }
   ],
   "source": [
    "0 in range(0,0)"
   ]
  },
  {
   "cell_type": "code",
   "execution_count": 11,
   "metadata": {},
   "outputs": [
    {
     "data": {
      "text/plain": [
       "[2, 3, 4, 5]"
      ]
     },
     "execution_count": 11,
     "metadata": {},
     "output_type": "execute_result"
    }
   ],
   "source": [
    "a= [2,3,4,5,6]\n",
    "a[0:-1]"
   ]
  },
  {
   "cell_type": "code",
   "execution_count": 12,
   "metadata": {},
   "outputs": [
    {
     "data": {
      "text/plain": [
       "False"
      ]
     },
     "execution_count": 12,
     "metadata": {},
     "output_type": "execute_result"
    }
   ],
   "source": [
    "'a' in {}"
   ]
  },
  {
   "cell_type": "code",
   "execution_count": 13,
   "metadata": {},
   "outputs": [
    {
     "data": {
      "text/plain": [
       "(0, (0, 0))"
      ]
     },
     "execution_count": 13,
     "metadata": {},
     "output_type": "execute_result"
    }
   ],
   "source": [
    "(0,(0,0))"
   ]
  },
  {
   "cell_type": "code",
   "execution_count": 2,
   "metadata": {},
   "outputs": [
    {
     "name": "stdout",
     "output_type": "stream",
     "text": [
      "True\n"
     ]
    }
   ],
   "source": [
    "result = None\n",
    "print(not result)"
   ]
  },
  {
   "cell_type": "markdown",
   "metadata": {},
   "source": []
  },
  {
   "cell_type": "code",
   "execution_count": 3,
   "metadata": {},
   "outputs": [
    {
     "name": "stdout",
     "output_type": "stream",
     "text": [
      "True\n"
     ]
    }
   ],
   "source": [
    "print(result == result)"
   ]
  },
  {
   "cell_type": "code",
   "execution_count": 4,
   "metadata": {},
   "outputs": [
    {
     "data": {
      "text/plain": [
       "False"
      ]
     },
     "execution_count": 4,
     "metadata": {},
     "output_type": "execute_result"
    }
   ],
   "source": [
    "0 == None"
   ]
  },
  {
   "cell_type": "code",
   "execution_count": null,
   "metadata": {},
   "outputs": [],
   "source": []
  },
  {
   "cell_type": "code",
   "execution_count": null,
   "metadata": {},
   "outputs": [],
   "source": []
  }
 ],
 "metadata": {
  "kernelspec": {
   "display_name": "MLenvironment",
   "language": "python",
   "name": "python3"
  },
  "language_info": {
   "codemirror_mode": {
    "name": "ipython",
    "version": 3
   },
   "file_extension": ".py",
   "mimetype": "text/x-python",
   "name": "python",
   "nbconvert_exporter": "python",
   "pygments_lexer": "ipython3",
   "version": "3.11.10"
  },
  "orig_nbformat": 4
 },
 "nbformat": 4,
 "nbformat_minor": 2
}
