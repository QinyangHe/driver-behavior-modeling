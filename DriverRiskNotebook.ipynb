{
 "cells": [
  {
   "cell_type": "code",
   "execution_count": 2,
   "metadata": {},
   "outputs": [],
   "source": [
    "import DriverRisk as dr\n",
    "import pandas as pd\n",
    "import numpy as np\n",
    "import pickle\n",
    "from sklearn.preprocessing import OneHotEncoder"
   ]
  },
  {
   "cell_type": "code",
   "execution_count": 3,
   "metadata": {},
   "outputs": [],
   "source": [
    "driver_df = pd.read_csv('data/telematics.csv')\n",
    "driver_df = driver_df.drop(columns = ['Territory'])\n",
    "categorical_features = ['Insured.sex','Marital','Car.use','Region']\n",
    "\n",
    "# Create the encoder object\n",
    "encoder = OneHotEncoder(drop='first', handle_unknown='ignore',sparse_output=False)\n",
    "\n",
    "# Fit and transform the categorical columns\n",
    "encoded_data = encoder.fit_transform(driver_df[categorical_features])\n",
    "\n",
    "# Get feature names after encoding\n",
    "feature_names = encoder.get_feature_names_out(categorical_features)\n",
    "\n",
    "# Convert the encoded data to a DataFrame\n",
    "encoded_df = pd.DataFrame(encoded_data, columns=feature_names, index=driver_df.index)\n",
    "\n",
    "# Drop original categorical columns and concatenate encoded columns\n",
    "numerical_features = [col for col in driver_df.columns if col not in categorical_features]\n",
    "driver_df = pd.concat([driver_df[numerical_features], encoded_df], axis=1)"
   ]
  },
  {
   "cell_type": "code",
   "execution_count": 4,
   "metadata": {},
   "outputs": [
    {
     "data": {
      "text/plain": [
       "366"
      ]
     },
     "execution_count": 4,
     "metadata": {},
     "output_type": "execute_result"
    }
   ],
   "source": [
    "driver_df['Duration'].max()"
   ]
  },
  {
   "cell_type": "code",
   "execution_count": 4,
   "metadata": {},
   "outputs": [],
   "source": [
    "affected_features = ['Accel.06miles', 'Accel.08miles', 'Accel.09miles',\n",
    "       'Accel.11miles', 'Accel.12miles', 'Accel.14miles', 'Brake.06miles',\n",
    "       'Brake.08miles', 'Brake.09miles', 'Brake.11miles', 'Brake.12miles',\n",
    "       'Brake.14miles', 'Left.turn.intensity08', 'Left.turn.intensity09',\n",
    "       'Left.turn.intensity10', 'Left.turn.intensity11',\n",
    "       'Left.turn.intensity12', 'Right.turn.intensity08',\n",
    "       'Right.turn.intensity09', 'Right.turn.intensity10',\n",
    "       'Right.turn.intensity11', 'Right.turn.intensity12']"
   ]
  },
  {
   "cell_type": "code",
   "execution_count": 6,
   "metadata": {},
   "outputs": [
    {
     "data": {
      "image/png": "[encoded data removed]",
      "text/plain": [
       "<Figure size 800x600 with 1 Axes>"
      ]
     },
     "metadata": {},
     "output_type": "display_data"
    }
   ],
   "source": [
    "NB_Claims = driver_df[\"NB_Claim\"]\n",
    "import numpy as np\n",
    "import matplotlib.pyplot as plt\n",
    "import seaborn as sns\n",
    "\n",
    "# Assuming you have your array\n",
    "# NB_Claims = np.array([0, 1, 0, 2, 1, 0, 3, 1, 2, 0, ...])\n",
    "\n",
    "# Method 1: Using matplotlib\n",
    "plt.figure(figsize=(8, 6))\n",
    "values, counts = np.unique(NB_Claims, return_counts=True)\n",
    "plt.bar(values, counts)\n",
    "plt.title('Frequency of Claims')\n",
    "plt.xlabel('Number of Claims')\n",
    "plt.ylabel('Frequency')\n",
    "plt.xticks(values)  # This ensures only the actual values are shown\n",
    "plt.show()"
   ]
  },
  {
   "cell_type": "code",
   "execution_count": 11,
   "metadata": {},
   "outputs": [
    {
     "data": {
      "text/plain": [
       "200"
      ]
     },
     "execution_count": 11,
     "metadata": {},
     "output_type": "execute_result"
    }
   ],
   "source": [
    "sum(driver_df['NB_Claim'] ==2)"
   ]
  },
  {
   "cell_type": "code",
   "execution_count": 21,
   "metadata": {},
   "outputs": [
    {
     "data": {
      "text/plain": [
       "4077.493669090909"
      ]
     },
     "execution_count": 21,
     "metadata": {},
     "output_type": "execute_result"
    }
   ],
   "source": [
    "driver_df[driver_df[\"NB_Claim\"] == 3][\"AMT_Claim\"].mean()"
   ]
  },
  {
   "cell_type": "code",
   "execution_count": 20,
   "metadata": {},
   "outputs": [
    {
     "data": {
      "text/plain": [
       "3046.376575974956"
      ]
     },
     "execution_count": 20,
     "metadata": {},
     "output_type": "execute_result"
    }
   ],
   "source": [
    "driver_df[driver_df[\"NB_Claim\"] == 1][\"AMT_Claim\"].mean()"
   ]
  },
  {
   "cell_type": "code",
   "execution_count": 5,
   "metadata": {},
   "outputs": [],
   "source": [
    "driver_df_1 = driver_df.copy()\n",
    "\n",
    "# Method 2: Using map with lambda\n",
    "driver_df_1['NB_Claim'] = driver_df_1['NB_Claim'].map(lambda x: 1 if x > 0 else 0)\n",
    "\n",
    "driver_df_1_train = driver_df_1\n",
    "driver_df_1_train = driver_df_1_train.drop(columns=['AMT_Claim'])"
   ]
  },
  {
   "cell_type": "code",
   "execution_count": 6,
   "metadata": {},
   "outputs": [
    {
     "data": {
      "text/html": [
       "<div>\n",
       "<style scoped>\n",
       "    .dataframe tbody tr th:only-of-type {\n",
       "        vertical-align: middle;\n",
       "    }\n",
       "\n",
       "    .dataframe tbody tr th {\n",
       "        vertical-align: top;\n",
       "    }\n",
       "\n",
       "    .dataframe thead th {\n",
       "        text-align: right;\n",
       "    }\n",
       "</style>\n",
       "<table border=\"1\" class=\"dataframe\">\n",
       "  <thead>\n",
       "    <tr style=\"text-align: right;\">\n",
       "      <th></th>\n",
       "      <th>Duration</th>\n",
       "      <th>Insured.age</th>\n",
       "      <th>Car.age</th>\n",
       "      <th>Credit.score</th>\n",
       "      <th>Annual.miles.drive</th>\n",
       "      <th>Years.noclaims</th>\n",
       "      <th>Annual.pct.driven</th>\n",
       "      <th>Total.miles.driven</th>\n",
       "      <th>Pct.drive.mon</th>\n",
       "      <th>Pct.drive.tue</th>\n",
       "      <th>...</th>\n",
       "      <th>Right.turn.intensity10</th>\n",
       "      <th>Right.turn.intensity11</th>\n",
       "      <th>Right.turn.intensity12</th>\n",
       "      <th>NB_Claim</th>\n",
       "      <th>Insured.sex_Male</th>\n",
       "      <th>Marital_Single</th>\n",
       "      <th>Car.use_Commute</th>\n",
       "      <th>Car.use_Farmer</th>\n",
       "      <th>Car.use_Private</th>\n",
       "      <th>Region_Urban</th>\n",
       "    </tr>\n",
       "  </thead>\n",
       "  <tbody>\n",
       "    <tr>\n",
       "      <th>0</th>\n",
       "      <td>366</td>\n",
       "      <td>45</td>\n",
       "      <td>-1</td>\n",
       "      <td>609.0</td>\n",
       "      <td>6213.71</td>\n",
       "      <td>25</td>\n",
       "      <td>0.849315</td>\n",
       "      <td>8864.376247</td>\n",
       "      <td>0.148070</td>\n",
       "      <td>0.152466</td>\n",
       "      <td>...</td>\n",
       "      <td>0.0</td>\n",
       "      <td>0.0</td>\n",
       "      <td>0.0</td>\n",
       "      <td>1</td>\n",
       "      <td>1.0</td>\n",
       "      <td>0.0</td>\n",
       "      <td>1.0</td>\n",
       "      <td>0.0</td>\n",
       "      <td>0.0</td>\n",
       "      <td>1.0</td>\n",
       "    </tr>\n",
       "    <tr>\n",
       "      <th>1</th>\n",
       "      <td>182</td>\n",
       "      <td>44</td>\n",
       "      <td>3</td>\n",
       "      <td>575.0</td>\n",
       "      <td>12427.42</td>\n",
       "      <td>20</td>\n",
       "      <td>0.465753</td>\n",
       "      <td>8092.308208</td>\n",
       "      <td>0.147686</td>\n",
       "      <td>0.136917</td>\n",
       "      <td>...</td>\n",
       "      <td>219.0</td>\n",
       "      <td>101.0</td>\n",
       "      <td>40.0</td>\n",
       "      <td>1</td>\n",
       "      <td>0.0</td>\n",
       "      <td>0.0</td>\n",
       "      <td>1.0</td>\n",
       "      <td>0.0</td>\n",
       "      <td>0.0</td>\n",
       "      <td>1.0</td>\n",
       "    </tr>\n",
       "    <tr>\n",
       "      <th>2</th>\n",
       "      <td>184</td>\n",
       "      <td>48</td>\n",
       "      <td>6</td>\n",
       "      <td>847.0</td>\n",
       "      <td>12427.42</td>\n",
       "      <td>14</td>\n",
       "      <td>0.520548</td>\n",
       "      <td>3225.832512</td>\n",
       "      <td>0.153735</td>\n",
       "      <td>0.097124</td>\n",
       "      <td>...</td>\n",
       "      <td>0.0</td>\n",
       "      <td>0.0</td>\n",
       "      <td>0.0</td>\n",
       "      <td>0</td>\n",
       "      <td>0.0</td>\n",
       "      <td>0.0</td>\n",
       "      <td>1.0</td>\n",
       "      <td>0.0</td>\n",
       "      <td>0.0</td>\n",
       "      <td>1.0</td>\n",
       "    </tr>\n",
       "    <tr>\n",
       "      <th>3</th>\n",
       "      <td>183</td>\n",
       "      <td>71</td>\n",
       "      <td>6</td>\n",
       "      <td>842.0</td>\n",
       "      <td>6213.71</td>\n",
       "      <td>43</td>\n",
       "      <td>0.065753</td>\n",
       "      <td>253.024528</td>\n",
       "      <td>0.106702</td>\n",
       "      <td>0.056437</td>\n",
       "      <td>...</td>\n",
       "      <td>0.0</td>\n",
       "      <td>0.0</td>\n",
       "      <td>0.0</td>\n",
       "      <td>0</td>\n",
       "      <td>1.0</td>\n",
       "      <td>0.0</td>\n",
       "      <td>0.0</td>\n",
       "      <td>0.0</td>\n",
       "      <td>1.0</td>\n",
       "      <td>1.0</td>\n",
       "    </tr>\n",
       "    <tr>\n",
       "      <th>4</th>\n",
       "      <td>183</td>\n",
       "      <td>84</td>\n",
       "      <td>10</td>\n",
       "      <td>856.0</td>\n",
       "      <td>6213.71</td>\n",
       "      <td>65</td>\n",
       "      <td>0.441096</td>\n",
       "      <td>4374.379634</td>\n",
       "      <td>0.123807</td>\n",
       "      <td>0.169661</td>\n",
       "      <td>...</td>\n",
       "      <td>18.0</td>\n",
       "      <td>4.0</td>\n",
       "      <td>2.0</td>\n",
       "      <td>0</td>\n",
       "      <td>1.0</td>\n",
       "      <td>0.0</td>\n",
       "      <td>0.0</td>\n",
       "      <td>0.0</td>\n",
       "      <td>1.0</td>\n",
       "      <td>1.0</td>\n",
       "    </tr>\n",
       "    <tr>\n",
       "      <th>...</th>\n",
       "      <td>...</td>\n",
       "      <td>...</td>\n",
       "      <td>...</td>\n",
       "      <td>...</td>\n",
       "      <td>...</td>\n",
       "      <td>...</td>\n",
       "      <td>...</td>\n",
       "      <td>...</td>\n",
       "      <td>...</td>\n",
       "      <td>...</td>\n",
       "      <td>...</td>\n",
       "      <td>...</td>\n",
       "      <td>...</td>\n",
       "      <td>...</td>\n",
       "      <td>...</td>\n",
       "      <td>...</td>\n",
       "      <td>...</td>\n",
       "      <td>...</td>\n",
       "      <td>...</td>\n",
       "      <td>...</td>\n",
       "      <td>...</td>\n",
       "    </tr>\n",
       "    <tr>\n",
       "      <th>99995</th>\n",
       "      <td>182</td>\n",
       "      <td>61</td>\n",
       "      <td>10</td>\n",
       "      <td>824.0</td>\n",
       "      <td>6213.71</td>\n",
       "      <td>42</td>\n",
       "      <td>0.161644</td>\n",
       "      <td>903.231641</td>\n",
       "      <td>0.068358</td>\n",
       "      <td>0.110253</td>\n",
       "      <td>...</td>\n",
       "      <td>0.0</td>\n",
       "      <td>0.0</td>\n",
       "      <td>0.0</td>\n",
       "      <td>0</td>\n",
       "      <td>1.0</td>\n",
       "      <td>1.0</td>\n",
       "      <td>0.0</td>\n",
       "      <td>0.0</td>\n",
       "      <td>1.0</td>\n",
       "      <td>1.0</td>\n",
       "    </tr>\n",
       "    <tr>\n",
       "      <th>99996</th>\n",
       "      <td>192</td>\n",
       "      <td>48</td>\n",
       "      <td>3</td>\n",
       "      <td>850.0</td>\n",
       "      <td>12427.42</td>\n",
       "      <td>32</td>\n",
       "      <td>0.167123</td>\n",
       "      <td>2870.045192</td>\n",
       "      <td>0.160821</td>\n",
       "      <td>0.124073</td>\n",
       "      <td>...</td>\n",
       "      <td>48.0</td>\n",
       "      <td>22.0</td>\n",
       "      <td>11.0</td>\n",
       "      <td>0</td>\n",
       "      <td>1.0</td>\n",
       "      <td>0.0</td>\n",
       "      <td>1.0</td>\n",
       "      <td>0.0</td>\n",
       "      <td>0.0</td>\n",
       "      <td>1.0</td>\n",
       "    </tr>\n",
       "    <tr>\n",
       "      <th>99997</th>\n",
       "      <td>184</td>\n",
       "      <td>50</td>\n",
       "      <td>2</td>\n",
       "      <td>650.0</td>\n",
       "      <td>6213.71</td>\n",
       "      <td>31</td>\n",
       "      <td>0.117808</td>\n",
       "      <td>935.538222</td>\n",
       "      <td>0.095132</td>\n",
       "      <td>0.076684</td>\n",
       "      <td>...</td>\n",
       "      <td>0.0</td>\n",
       "      <td>0.0</td>\n",
       "      <td>0.0</td>\n",
       "      <td>0</td>\n",
       "      <td>1.0</td>\n",
       "      <td>1.0</td>\n",
       "      <td>1.0</td>\n",
       "      <td>0.0</td>\n",
       "      <td>0.0</td>\n",
       "      <td>0.0</td>\n",
       "    </tr>\n",
       "    <tr>\n",
       "      <th>99998</th>\n",
       "      <td>184</td>\n",
       "      <td>76</td>\n",
       "      <td>2</td>\n",
       "      <td>811.0</td>\n",
       "      <td>6213.71</td>\n",
       "      <td>58</td>\n",
       "      <td>0.473973</td>\n",
       "      <td>4287.600459</td>\n",
       "      <td>0.106783</td>\n",
       "      <td>0.151199</td>\n",
       "      <td>...</td>\n",
       "      <td>0.0</td>\n",
       "      <td>0.0</td>\n",
       "      <td>0.0</td>\n",
       "      <td>0</td>\n",
       "      <td>1.0</td>\n",
       "      <td>0.0</td>\n",
       "      <td>0.0</td>\n",
       "      <td>0.0</td>\n",
       "      <td>1.0</td>\n",
       "      <td>0.0</td>\n",
       "    </tr>\n",
       "    <tr>\n",
       "      <th>99999</th>\n",
       "      <td>365</td>\n",
       "      <td>25</td>\n",
       "      <td>2</td>\n",
       "      <td>818.0</td>\n",
       "      <td>12427.42</td>\n",
       "      <td>7</td>\n",
       "      <td>0.421918</td>\n",
       "      <td>6131.406302</td>\n",
       "      <td>0.107360</td>\n",
       "      <td>0.220392</td>\n",
       "      <td>...</td>\n",
       "      <td>31.0</td>\n",
       "      <td>12.0</td>\n",
       "      <td>9.0</td>\n",
       "      <td>0</td>\n",
       "      <td>0.0</td>\n",
       "      <td>1.0</td>\n",
       "      <td>0.0</td>\n",
       "      <td>0.0</td>\n",
       "      <td>0.0</td>\n",
       "      <td>0.0</td>\n",
       "    </tr>\n",
       "  </tbody>\n",
       "</table>\n",
       "<p>100000 rows × 52 columns</p>\n",
       "</div>"
      ],
      "text/plain": [
       "       Duration  Insured.age  Car.age  Credit.score  Annual.miles.drive  \\\n",
       "0           366           45       -1         609.0             6213.71   \n",
       "1           182           44        3         575.0            12427.42   \n",
       "2           184           48        6         847.0            12427.42   \n",
       "3           183           71        6         842.0             6213.71   \n",
       "4           183           84       10         856.0             6213.71   \n",
       "...         ...          ...      ...           ...                 ...   \n",
       "99995       182           61       10         824.0             6213.71   \n",
       "99996       192           48        3         850.0            12427.42   \n",
       "99997       184           50        2         650.0             6213.71   \n",
       "99998       184           76        2         811.0             6213.71   \n",
       "99999       365           25        2         818.0            12427.42   \n",
       "\n",
       "       Years.noclaims  Annual.pct.driven  Total.miles.driven  Pct.drive.mon  \\\n",
       "0                  25           0.849315         8864.376247       0.148070   \n",
       "1                  20           0.465753         8092.308208       0.147686   \n",
       "2                  14           0.520548         3225.832512       0.153735   \n",
       "3                  43           0.065753          253.024528       0.106702   \n",
       "4                  65           0.441096         4374.379634       0.123807   \n",
       "...               ...                ...                 ...            ...   \n",
       "99995              42           0.161644          903.231641       0.068358   \n",
       "99996              32           0.167123         2870.045192       0.160821   \n",
       "99997              31           0.117808          935.538222       0.095132   \n",
       "99998              58           0.473973         4287.600459       0.106783   \n",
       "99999               7           0.421918         6131.406302       0.107360   \n",
       "\n",
       "       Pct.drive.tue  ...  Right.turn.intensity10  Right.turn.intensity11  \\\n",
       "0           0.152466  ...                     0.0                     0.0   \n",
       "1           0.136917  ...                   219.0                   101.0   \n",
       "2           0.097124  ...                     0.0                     0.0   \n",
       "3           0.056437  ...                     0.0                     0.0   \n",
       "4           0.169661  ...                    18.0                     4.0   \n",
       "...              ...  ...                     ...                     ...   \n",
       "99995       0.110253  ...                     0.0                     0.0   \n",
       "99996       0.124073  ...                    48.0                    22.0   \n",
       "99997       0.076684  ...                     0.0                     0.0   \n",
       "99998       0.151199  ...                     0.0                     0.0   \n",
       "99999       0.220392  ...                    31.0                    12.0   \n",
       "\n",
       "       Right.turn.intensity12  NB_Claim  Insured.sex_Male  Marital_Single  \\\n",
       "0                         0.0         1               1.0             0.0   \n",
       "1                        40.0         1               0.0             0.0   \n",
       "2                         0.0         0               0.0             0.0   \n",
       "3                         0.0         0               1.0             0.0   \n",
       "4                         2.0         0               1.0             0.0   \n",
       "...                       ...       ...               ...             ...   \n",
       "99995                     0.0         0               1.0             1.0   \n",
       "99996                    11.0         0               1.0             0.0   \n",
       "99997                     0.0         0               1.0             1.0   \n",
       "99998                     0.0         0               1.0             0.0   \n",
       "99999                     9.0         0               0.0             1.0   \n",
       "\n",
       "       Car.use_Commute  Car.use_Farmer  Car.use_Private  Region_Urban  \n",
       "0                  1.0             0.0              0.0           1.0  \n",
       "1                  1.0             0.0              0.0           1.0  \n",
       "2                  1.0             0.0              0.0           1.0  \n",
       "3                  0.0             0.0              1.0           1.0  \n",
       "4                  0.0             0.0              1.0           1.0  \n",
       "...                ...             ...              ...           ...  \n",
       "99995              0.0             0.0              1.0           1.0  \n",
       "99996              1.0             0.0              0.0           1.0  \n",
       "99997              1.0             0.0              0.0           0.0  \n",
       "99998              0.0             0.0              1.0           0.0  \n",
       "99999              0.0             0.0              0.0           0.0  \n",
       "\n",
       "[100000 rows x 52 columns]"
      ]
     },
     "execution_count": 6,
     "metadata": {},
     "output_type": "execute_result"
    }
   ],
   "source": [
    "driver_df_1_train"
   ]
  },
  {
   "cell_type": "code",
   "execution_count": 4,
   "metadata": {},
   "outputs": [
    {
     "name": "stderr",
     "output_type": "stream",
     "text": [
      "/var/folders/8m/x5x5_dcs5tx95d8b0v2mhb1r0000gn/T/ipykernel_45710/670737245.py:2: SettingWithCopyWarning: \n",
      "A value is trying to be set on a copy of a slice from a DataFrame.\n",
      "Try using .loc[row_indexer,col_indexer] = value instead\n",
      "\n",
      "See the caveats in the documentation: https://pandas.pydata.org/pandas-docs/stable/user_guide/indexing.html#returning-a-view-versus-a-copy\n",
      "  driver_df_amt['AMT_Claim'] = driver_df_amt['AMT_Claim'] / driver_df_amt['NB_Claim']\n"
     ]
    }
   ],
   "source": [
    "driver_df_amt = driver_df[driver_df[\"NB_Claim\"] >= 1]\n",
    "driver_df_amt['AMT_Claim'] = driver_df_amt['AMT_Claim'] / driver_df_amt['NB_Claim']"
   ]
  },
  {
   "cell_type": "code",
   "execution_count": 10,
   "metadata": {},
   "outputs": [
    {
     "data": {
      "text/plain": [
       "408"
      ]
     },
     "execution_count": 10,
     "metadata": {},
     "output_type": "execute_result"
    }
   ],
   "source": [
    "sum(driver_df_amt[\"AMT_Claim\"] == 0)"
   ]
  },
  {
   "cell_type": "code",
   "execution_count": 4,
   "metadata": {},
   "outputs": [
    {
     "name": "stdout",
     "output_type": "stream",
     "text": [
      "Class distribution:\n",
      "Class 0: 95728 samples (95.73%)\n",
      "Class 1: 4272 samples (4.27%)\n",
      "Training AMT\n"
     ]
    },
    {
     "name": "stderr",
     "output_type": "stream",
     "text": [
      "GPU available: False, used: False\n",
      "TPU available: False, using: 0 TPU cores\n",
      "HPU available: False, using: 0 HPUs\n",
      "/Users/qinyanghe/opt/anaconda3/envs/MLenvironment/lib/python3.11/site-packages/pytorch_lightning/trainer/connectors/logger_connector/logger_connector.py:76: Starting from v1.9.0, `tensorboardX` has been removed as a dependency of the `pytorch_lightning` package, due to potential conflicts with other packages in the ML ecosystem. For this reason, `logger=True` will use `CSVLogger` as the default logger, unless the `tensorboard` or `tensorboardX` packages are found. Please `pip install lightning[extra]` or one of them to enable TensorBoard support by default\n",
      "\n",
      "  | Name           | Type           | Params | Mode \n",
      "----------------------------------------------------------\n",
      "0 | train_accuracy | BinaryAccuracy | 0      | train\n",
      "1 | val_accuracy   | BinaryAccuracy | 0      | train\n",
      "2 | network        | Sequential     | 47.2 K | train\n",
      "----------------------------------------------------------\n",
      "47.2 K    Trainable params\n",
      "0         Non-trainable params\n",
      "47.2 K    Total params\n",
      "0.189     Total estimated model params size (MB)\n",
      "14        Modules in train mode\n",
      "0         Modules in eval mode\n",
      "/Users/qinyanghe/opt/anaconda3/envs/MLenvironment/lib/python3.11/site-packages/pytorch_lightning/trainer/connectors/data_connector.py:420: Consider setting `persistent_workers=True` in 'val_dataloader' to speed up the dataloader worker initialization.\n",
      "/Users/qinyanghe/opt/anaconda3/envs/MLenvironment/lib/python3.11/site-packages/pytorch_lightning/trainer/connectors/data_connector.py:420: Consider setting `persistent_workers=True` in 'train_dataloader' to speed up the dataloader worker initialization.\n",
      "Metric val_loss improved. New best score: 1.458\n"
     ]
    },
    {
     "name": "stdout",
     "output_type": "stream",
     "text": [
      "\n",
      "Epoch 0:\n",
      "val_loss: 1.4579\n",
      "val_acc: 0.0427\n",
      "\n",
      "Epoch 1:\n",
      "val_loss: 1.4579\n",
      "val_acc: 0.0427\n",
      "train_loss: 3.0227\n",
      "train_acc: 0.4982\n",
      "\n",
      "Epoch 2:\n",
      "val_loss: 1.4579\n",
      "val_acc: 0.0427\n",
      "train_loss: 2.9975\n",
      "train_acc: 0.4976\n",
      "\n",
      "Epoch 3:\n",
      "val_loss: 1.4579\n",
      "val_acc: 0.0427\n",
      "train_loss: 3.0035\n",
      "train_acc: 0.4993\n"
     ]
    },
    {
     "name": "stderr",
     "output_type": "stream",
     "text": [
      "Metric val_loss improved by 0.157 >= min_delta = 0.0001. New best score: 1.301\n"
     ]
    },
    {
     "name": "stdout",
     "output_type": "stream",
     "text": [
      "\n",
      "Epoch 4:\n",
      "val_loss: 1.3005\n",
      "val_acc: 0.0469\n",
      "train_loss: 3.0028\n",
      "train_acc: 0.4994\n"
     ]
    },
    {
     "name": "stderr",
     "output_type": "stream",
     "text": [
      "Metric val_loss improved by 0.047 >= min_delta = 0.0001. New best score: 1.254\n"
     ]
    },
    {
     "name": "stdout",
     "output_type": "stream",
     "text": [
      "\n",
      "Epoch 5:\n",
      "val_loss: 1.2538\n",
      "val_acc: 0.0766\n",
      "train_loss: 2.9701\n",
      "train_acc: 0.5019\n",
      "\n",
      "Epoch 6:\n",
      "val_loss: 1.2813\n",
      "val_acc: 0.0671\n",
      "train_loss: 2.9286\n",
      "train_acc: 0.5086\n"
     ]
    },
    {
     "name": "stderr",
     "output_type": "stream",
     "text": [
      "Metric val_loss improved by 0.009 >= min_delta = 0.0001. New best score: 1.244\n"
     ]
    },
    {
     "name": "stdout",
     "output_type": "stream",
     "text": [
      "\n",
      "Epoch 7:\n",
      "val_loss: 1.2444\n",
      "val_acc: 0.0993\n",
      "train_loss: 2.9295\n",
      "train_acc: 0.5190\n"
     ]
    },
    {
     "name": "stderr",
     "output_type": "stream",
     "text": [
      "Metric val_loss improved by 0.005 >= min_delta = 0.0001. New best score: 1.239\n"
     ]
    },
    {
     "name": "stdout",
     "output_type": "stream",
     "text": [
      "\n",
      "Epoch 8:\n",
      "val_loss: 1.2394\n",
      "val_acc: 0.1104\n",
      "train_loss: 2.9009\n",
      "train_acc: 0.5227\n",
      "\n",
      "Epoch 9:\n",
      "val_loss: 1.2416\n",
      "val_acc: 0.1153\n",
      "train_loss: 2.9170\n",
      "train_acc: 0.5341\n",
      "\n",
      "Epoch 10:\n",
      "val_loss: 1.2409\n",
      "val_acc: 0.1336\n",
      "train_loss: 2.8958\n",
      "train_acc: 0.5370\n"
     ]
    },
    {
     "name": "stderr",
     "output_type": "stream",
     "text": [
      "Metric val_loss improved by 0.016 >= min_delta = 0.0001. New best score: 1.223\n"
     ]
    },
    {
     "name": "stdout",
     "output_type": "stream",
     "text": [
      "\n",
      "Epoch 11:\n",
      "val_loss: 1.2235\n",
      "val_acc: 0.1484\n",
      "train_loss: 2.9026\n",
      "train_acc: 0.5507\n"
     ]
    },
    {
     "name": "stderr",
     "output_type": "stream",
     "text": [
      "Metric val_loss improved by 0.001 >= min_delta = 0.0001. New best score: 1.222\n"
     ]
    },
    {
     "name": "stdout",
     "output_type": "stream",
     "text": [
      "\n",
      "Epoch 12:\n",
      "val_loss: 1.2224\n",
      "val_acc: 0.1688\n",
      "train_loss: 2.8984\n",
      "train_acc: 0.5544\n"
     ]
    },
    {
     "name": "stderr",
     "output_type": "stream",
     "text": [
      "Metric val_loss improved by 0.008 >= min_delta = 0.0001. New best score: 1.214\n"
     ]
    },
    {
     "name": "stdout",
     "output_type": "stream",
     "text": [
      "\n",
      "Epoch 13:\n",
      "val_loss: 1.2139\n",
      "val_acc: 0.1831\n",
      "train_loss: 2.8922\n",
      "train_acc: 0.5637\n",
      "\n",
      "Epoch 14:\n",
      "val_loss: 1.2192\n",
      "val_acc: 0.1668\n",
      "train_loss: 2.8926\n",
      "train_acc: 0.5699\n"
     ]
    },
    {
     "name": "stderr",
     "output_type": "stream",
     "text": [
      "Metric val_loss improved by 0.008 >= min_delta = 0.0001. New best score: 1.206\n"
     ]
    },
    {
     "name": "stdout",
     "output_type": "stream",
     "text": [
      "\n",
      "Epoch 15:\n",
      "val_loss: 1.2055\n",
      "val_acc: 0.2006\n",
      "train_loss: 2.8832\n",
      "train_acc: 0.5731\n"
     ]
    },
    {
     "name": "stderr",
     "output_type": "stream",
     "text": [
      "Metric val_loss improved by 0.013 >= min_delta = 0.0001. New best score: 1.192\n"
     ]
    },
    {
     "name": "stdout",
     "output_type": "stream",
     "text": [
      "\n",
      "Epoch 16:\n",
      "val_loss: 1.1922\n",
      "val_acc: 0.2459\n",
      "train_loss: 2.8765\n",
      "train_acc: 0.5736\n",
      "\n",
      "Epoch 17:\n",
      "val_loss: 1.1979\n",
      "val_acc: 0.2004\n",
      "train_loss: 2.8846\n",
      "train_acc: 0.5801\n",
      "\n",
      "Epoch 18:\n",
      "val_loss: 1.2026\n",
      "val_acc: 0.2076\n",
      "train_loss: 2.8828\n",
      "train_acc: 0.5846\n"
     ]
    },
    {
     "name": "stderr",
     "output_type": "stream",
     "text": [
      "Metric val_loss improved by 0.004 >= min_delta = 0.0001. New best score: 1.188\n"
     ]
    },
    {
     "name": "stdout",
     "output_type": "stream",
     "text": [
      "\n",
      "Epoch 19:\n",
      "val_loss: 1.1879\n",
      "val_acc: 0.2167\n",
      "train_loss: 2.8795\n",
      "train_acc: 0.5816\n"
     ]
    },
    {
     "name": "stderr",
     "output_type": "stream",
     "text": [
      "Metric val_loss improved by 0.009 >= min_delta = 0.0001. New best score: 1.179\n"
     ]
    },
    {
     "name": "stdout",
     "output_type": "stream",
     "text": [
      "\n",
      "Epoch 20:\n",
      "val_loss: 1.1791\n",
      "val_acc: 0.2400\n",
      "train_loss: 2.8709\n",
      "train_acc: 0.5879\n"
     ]
    },
    {
     "name": "stderr",
     "output_type": "stream",
     "text": [
      "Metric val_loss improved by 0.007 >= min_delta = 0.0001. New best score: 1.172\n"
     ]
    },
    {
     "name": "stdout",
     "output_type": "stream",
     "text": [
      "\n",
      "Epoch 21:\n",
      "val_loss: 1.1723\n",
      "val_acc: 0.2441\n",
      "train_loss: 2.8735\n",
      "train_acc: 0.5905\n",
      "\n",
      "Epoch 22:\n",
      "val_loss: 1.1903\n",
      "val_acc: 0.1886\n",
      "train_loss: 2.8676\n",
      "train_acc: 0.5868\n"
     ]
    },
    {
     "name": "stderr",
     "output_type": "stream",
     "text": [
      "Metric val_loss improved by 0.010 >= min_delta = 0.0001. New best score: 1.162\n"
     ]
    },
    {
     "name": "stdout",
     "output_type": "stream",
     "text": [
      "\n",
      "Epoch 23:\n",
      "val_loss: 1.1619\n",
      "val_acc: 0.2886\n",
      "train_loss: 2.8599\n",
      "train_acc: 0.5962\n",
      "\n",
      "Epoch 24:\n",
      "val_loss: 1.1743\n",
      "val_acc: 0.2143\n",
      "train_loss: 2.8668\n",
      "train_acc: 0.5903\n",
      "\n",
      "Epoch 25:\n",
      "val_loss: 1.1637\n",
      "val_acc: 0.2229\n",
      "train_loss: 2.8754\n",
      "train_acc: 0.5875\n"
     ]
    },
    {
     "name": "stderr",
     "output_type": "stream",
     "text": [
      "Metric val_loss improved by 0.001 >= min_delta = 0.0001. New best score: 1.161\n"
     ]
    },
    {
     "name": "stdout",
     "output_type": "stream",
     "text": [
      "\n",
      "Epoch 26:\n",
      "val_loss: 1.1607\n",
      "val_acc: 0.1791\n",
      "train_loss: 2.8603\n",
      "train_acc: 0.5914\n"
     ]
    },
    {
     "name": "stderr",
     "output_type": "stream",
     "text": [
      "Metric val_loss improved by 0.008 >= min_delta = 0.0001. New best score: 1.152\n"
     ]
    },
    {
     "name": "stdout",
     "output_type": "stream",
     "text": [
      "\n",
      "Epoch 27:\n",
      "val_loss: 1.1524\n",
      "val_acc: 0.2364\n",
      "train_loss: 2.8528\n",
      "train_acc: 0.5824\n",
      "\n",
      "Epoch 28:\n",
      "val_loss: 1.1570\n",
      "val_acc: 0.1929\n",
      "train_loss: 2.8558\n",
      "train_acc: 0.5789\n"
     ]
    },
    {
     "name": "stderr",
     "output_type": "stream",
     "text": [
      "Metric val_loss improved by 0.005 >= min_delta = 0.0001. New best score: 1.147\n"
     ]
    },
    {
     "name": "stdout",
     "output_type": "stream",
     "text": [
      "\n",
      "Epoch 29:\n",
      "val_loss: 1.1471\n",
      "val_acc: 0.3123\n",
      "train_loss: 2.8468\n",
      "train_acc: 0.5883\n",
      "\n",
      "Epoch 30:\n",
      "val_loss: 1.1481\n",
      "val_acc: 0.2173\n",
      "train_loss: 2.8541\n",
      "train_acc: 0.5861\n"
     ]
    },
    {
     "name": "stderr",
     "output_type": "stream",
     "text": [
      "Metric val_loss improved by 0.003 >= min_delta = 0.0001. New best score: 1.144\n"
     ]
    },
    {
     "name": "stdout",
     "output_type": "stream",
     "text": [
      "\n",
      "Epoch 31:\n",
      "val_loss: 1.1439\n",
      "val_acc: 0.3016\n",
      "train_loss: 2.8511\n",
      "train_acc: 0.5950\n"
     ]
    },
    {
     "name": "stderr",
     "output_type": "stream",
     "text": [
      "Metric val_loss improved by 0.007 >= min_delta = 0.0001. New best score: 1.137\n"
     ]
    },
    {
     "name": "stdout",
     "output_type": "stream",
     "text": [
      "\n",
      "Epoch 32:\n",
      "val_loss: 1.1373\n",
      "val_acc: 0.3347\n",
      "train_loss: 2.8549\n",
      "train_acc: 0.5920\n",
      "\n",
      "Epoch 33:\n",
      "val_loss: 1.1452\n",
      "val_acc: 0.2171\n",
      "train_loss: 2.8402\n",
      "train_acc: 0.6066\n",
      "\n",
      "Epoch 34:\n",
      "val_loss: 1.1430\n",
      "val_acc: 0.1745\n",
      "train_loss: 2.8441\n",
      "train_acc: 0.5955\n",
      "\n",
      "Epoch 35:\n",
      "val_loss: 1.1383\n",
      "val_acc: 0.2266\n",
      "train_loss: 2.8325\n",
      "train_acc: 0.5765\n"
     ]
    },
    {
     "name": "stderr",
     "output_type": "stream",
     "text": [
      "Metric val_loss improved by 0.004 >= min_delta = 0.0001. New best score: 1.134\n"
     ]
    },
    {
     "name": "stdout",
     "output_type": "stream",
     "text": [
      "\n",
      "Epoch 36:\n",
      "val_loss: 1.1336\n",
      "val_acc: 0.1660\n",
      "train_loss: 2.8520\n",
      "train_acc: 0.5853\n",
      "\n",
      "Epoch 37:\n",
      "val_loss: 1.1403\n",
      "val_acc: 0.1914\n",
      "train_loss: 2.8366\n",
      "train_acc: 0.5753\n"
     ]
    },
    {
     "name": "stderr",
     "output_type": "stream",
     "text": [
      "Metric val_loss improved by 0.009 >= min_delta = 0.0001. New best score: 1.125\n"
     ]
    },
    {
     "name": "stdout",
     "output_type": "stream",
     "text": [
      "\n",
      "Epoch 38:\n",
      "val_loss: 1.1250\n",
      "val_acc: 0.2331\n",
      "train_loss: 2.8420\n",
      "train_acc: 0.5605\n",
      "\n",
      "Epoch 39:\n",
      "val_loss: 1.1327\n",
      "val_acc: 0.1909\n",
      "train_loss: 2.8440\n",
      "train_acc: 0.5760\n",
      "\n",
      "Epoch 40:\n",
      "val_loss: 1.1287\n",
      "val_acc: 0.1697\n",
      "train_loss: 2.8308\n",
      "train_acc: 0.5835\n"
     ]
    },
    {
     "name": "stderr",
     "output_type": "stream",
     "text": [
      "Metric val_loss improved by 0.005 >= min_delta = 0.0001. New best score: 1.120\n"
     ]
    },
    {
     "name": "stdout",
     "output_type": "stream",
     "text": [
      "\n",
      "Epoch 41:\n",
      "val_loss: 1.1198\n",
      "val_acc: 0.2637\n",
      "train_loss: 2.8444\n",
      "train_acc: 0.5889\n",
      "\n",
      "Epoch 42:\n",
      "val_loss: 1.1201\n",
      "val_acc: 0.2617\n",
      "train_loss: 2.8322\n",
      "train_acc: 0.6019\n",
      "\n",
      "Epoch 43:\n",
      "val_loss: 1.1350\n",
      "val_acc: 0.1880\n",
      "train_loss: 2.8386\n",
      "train_acc: 0.6063\n",
      "\n",
      "Epoch 44:\n",
      "val_loss: 1.1207\n",
      "val_acc: 0.2573\n",
      "train_loss: 2.8327\n",
      "train_acc: 0.5930\n"
     ]
    },
    {
     "name": "stderr",
     "output_type": "stream",
     "text": [
      "Metric val_loss improved by 0.004 >= min_delta = 0.0001. New best score: 1.116\n"
     ]
    },
    {
     "name": "stdout",
     "output_type": "stream",
     "text": [
      "\n",
      "Epoch 45:\n",
      "val_loss: 1.1159\n",
      "val_acc: 0.2264\n",
      "train_loss: 2.8423\n",
      "train_acc: 0.6062\n"
     ]
    },
    {
     "name": "stderr",
     "output_type": "stream",
     "text": [
      "Metric val_loss improved by 0.009 >= min_delta = 0.0001. New best score: 1.107\n"
     ]
    },
    {
     "name": "stdout",
     "output_type": "stream",
     "text": [
      "\n",
      "Epoch 46:\n",
      "val_loss: 1.1071\n",
      "val_acc: 0.2406\n",
      "train_loss: 2.8287\n",
      "train_acc: 0.5987\n",
      "\n",
      "Epoch 47:\n",
      "val_loss: 1.1211\n",
      "val_acc: 0.2008\n",
      "train_loss: 2.8178\n",
      "train_acc: 0.5939\n",
      "\n",
      "Epoch 48:\n",
      "val_loss: 1.1112\n",
      "val_acc: 0.2497\n",
      "train_loss: 2.8364\n",
      "train_acc: 0.5962\n"
     ]
    },
    {
     "name": "stderr",
     "output_type": "stream",
     "text": [
      "Metric val_loss improved by 0.003 >= min_delta = 0.0001. New best score: 1.104\n"
     ]
    },
    {
     "name": "stdout",
     "output_type": "stream",
     "text": [
      "\n",
      "Epoch 49:\n",
      "val_loss: 1.1037\n",
      "val_acc: 0.2949\n",
      "train_loss: 2.8331\n",
      "train_acc: 0.6014\n",
      "\n",
      "Epoch 50:\n",
      "val_loss: 1.1045\n",
      "val_acc: 0.2489\n",
      "train_loss: 2.8232\n",
      "train_acc: 0.6168\n",
      "\n",
      "Epoch 51:\n",
      "val_loss: 1.1180\n",
      "val_acc: 0.1731\n",
      "train_loss: 2.8225\n",
      "train_acc: 0.6045\n"
     ]
    },
    {
     "name": "stderr",
     "output_type": "stream",
     "text": [
      "Metric val_loss improved by 0.001 >= min_delta = 0.0001. New best score: 1.103\n"
     ]
    },
    {
     "name": "stdout",
     "output_type": "stream",
     "text": [
      "\n",
      "Epoch 52:\n",
      "val_loss: 1.1030\n",
      "val_acc: 0.2708\n",
      "train_loss: 2.8180\n",
      "train_acc: 0.5898\n",
      "\n",
      "Epoch 53:\n",
      "val_loss: 1.1035\n",
      "val_acc: 0.2629\n",
      "train_loss: 2.8203\n",
      "train_acc: 0.6079\n",
      "\n",
      "Epoch 54:\n",
      "val_loss: 1.1081\n",
      "val_acc: 0.2099\n",
      "train_loss: 2.8259\n",
      "train_acc: 0.6162\n"
     ]
    },
    {
     "name": "stderr",
     "output_type": "stream",
     "text": [
      "Metric val_loss improved by 0.002 >= min_delta = 0.0001. New best score: 1.101\n"
     ]
    },
    {
     "name": "stdout",
     "output_type": "stream",
     "text": [
      "\n",
      "Epoch 55:\n",
      "val_loss: 1.1005\n",
      "val_acc: 0.2836\n",
      "train_loss: 2.8242\n",
      "train_acc: 0.6114\n"
     ]
    },
    {
     "name": "stderr",
     "output_type": "stream",
     "text": [
      "Metric val_loss improved by 0.009 >= min_delta = 0.0001. New best score: 1.092\n"
     ]
    },
    {
     "name": "stdout",
     "output_type": "stream",
     "text": [
      "\n",
      "Epoch 56:\n",
      "val_loss: 1.0917\n",
      "val_acc: 0.3297\n",
      "train_loss: 2.8253\n",
      "train_acc: 0.6179\n",
      "\n",
      "Epoch 57:\n",
      "val_loss: 1.1006\n",
      "val_acc: 0.2452\n",
      "train_loss: 2.8139\n",
      "train_acc: 0.6369\n",
      "\n",
      "Epoch 58:\n",
      "val_loss: 1.0944\n",
      "val_acc: 0.3121\n",
      "train_loss: 2.8283\n",
      "train_acc: 0.6154\n",
      "\n",
      "Epoch 59:\n",
      "val_loss: 1.0945\n",
      "val_acc: 0.2951\n",
      "train_loss: 2.8268\n",
      "train_acc: 0.6211\n",
      "\n",
      "Epoch 60:\n",
      "val_loss: 1.0950\n",
      "val_acc: 0.2787\n",
      "train_loss: 2.8140\n",
      "train_acc: 0.6316\n",
      "\n",
      "Epoch 61:\n",
      "val_loss: 1.0954\n",
      "val_acc: 0.2867\n",
      "train_loss: 2.8209\n",
      "train_acc: 0.6305\n",
      "\n",
      "Epoch 62:\n",
      "val_loss: 1.0978\n",
      "val_acc: 0.2951\n",
      "train_loss: 2.8127\n",
      "train_acc: 0.6200\n",
      "\n",
      "Epoch 63:\n",
      "val_loss: 1.1014\n",
      "val_acc: 0.2499\n",
      "train_loss: 2.8196\n",
      "train_acc: 0.6214\n",
      "\n",
      "Epoch 64:\n",
      "val_loss: 1.0937\n",
      "val_acc: 0.3008\n",
      "train_loss: 2.8132\n",
      "train_acc: 0.6177\n"
     ]
    },
    {
     "name": "stderr",
     "output_type": "stream",
     "text": [
      "Metric val_loss improved by 0.004 >= min_delta = 0.0001. New best score: 1.088\n"
     ]
    },
    {
     "name": "stdout",
     "output_type": "stream",
     "text": [
      "\n",
      "Epoch 65:\n",
      "val_loss: 1.0877\n",
      "val_acc: 0.2538\n",
      "train_loss: 2.8119\n",
      "train_acc: 0.6154\n",
      "\n",
      "Epoch 66:\n",
      "val_loss: 1.0887\n",
      "val_acc: 0.2571\n",
      "train_loss: 2.8284\n",
      "train_acc: 0.6162\n"
     ]
    },
    {
     "name": "stderr",
     "output_type": "stream",
     "text": [
      "Metric val_loss improved by 0.006 >= min_delta = 0.0001. New best score: 1.082\n"
     ]
    },
    {
     "name": "stdout",
     "output_type": "stream",
     "text": [
      "\n",
      "Epoch 67:\n",
      "val_loss: 1.0821\n",
      "val_acc: 0.2836\n",
      "train_loss: 2.8173\n",
      "train_acc: 0.6010\n",
      "\n",
      "Epoch 68:\n",
      "val_loss: 1.0894\n",
      "val_acc: 0.2654\n",
      "train_loss: 2.8198\n",
      "train_acc: 0.6201\n",
      "\n",
      "Epoch 69:\n",
      "val_loss: 1.0858\n",
      "val_acc: 0.3169\n",
      "train_loss: 2.8163\n",
      "train_acc: 0.6290\n",
      "\n",
      "Epoch 70:\n",
      "val_loss: 1.0891\n",
      "val_acc: 0.2669\n",
      "train_loss: 2.8241\n",
      "train_acc: 0.6221\n",
      "\n",
      "Epoch 71:\n",
      "val_loss: 1.0849\n",
      "val_acc: 0.3160\n",
      "train_loss: 2.8213\n",
      "train_acc: 0.6201\n",
      "\n",
      "Epoch 72:\n",
      "val_loss: 1.0845\n",
      "val_acc: 0.2717\n",
      "train_loss: 2.8164\n",
      "train_acc: 0.6259\n"
     ]
    },
    {
     "name": "stderr",
     "output_type": "stream",
     "text": [
      "Metric val_loss improved by 0.001 >= min_delta = 0.0001. New best score: 1.081\n"
     ]
    },
    {
     "name": "stdout",
     "output_type": "stream",
     "text": [
      "\n",
      "Epoch 73:\n",
      "val_loss: 1.0806\n",
      "val_acc: 0.3466\n",
      "train_loss: 2.8136\n",
      "train_acc: 0.6255\n"
     ]
    },
    {
     "name": "stderr",
     "output_type": "stream",
     "text": [
      "Metric val_loss improved by 0.005 >= min_delta = 0.0001. New best score: 1.075\n"
     ]
    },
    {
     "name": "stdout",
     "output_type": "stream",
     "text": [
      "\n",
      "Epoch 74:\n",
      "val_loss: 1.0754\n",
      "val_acc: 0.3464\n",
      "train_loss: 2.8046\n",
      "train_acc: 0.6337\n",
      "\n",
      "Epoch 75:\n",
      "val_loss: 1.0826\n",
      "val_acc: 0.3031\n",
      "train_loss: 2.8110\n",
      "train_acc: 0.6294\n",
      "\n",
      "Epoch 76:\n",
      "val_loss: 1.0835\n",
      "val_acc: 0.3454\n",
      "train_loss: 2.8025\n",
      "train_acc: 0.6371\n",
      "\n",
      "Epoch 77:\n",
      "val_loss: 1.0858\n",
      "val_acc: 0.3110\n",
      "train_loss: 2.8082\n",
      "train_acc: 0.6433\n"
     ]
    },
    {
     "name": "stderr",
     "output_type": "stream",
     "text": [
      "Metric val_loss improved by 0.000 >= min_delta = 0.0001. New best score: 1.075\n"
     ]
    },
    {
     "name": "stdout",
     "output_type": "stream",
     "text": [
      "\n",
      "Epoch 78:\n",
      "val_loss: 1.0752\n",
      "val_acc: 0.3406\n",
      "train_loss: 2.8151\n",
      "train_acc: 0.6485\n",
      "\n",
      "Epoch 79:\n",
      "val_loss: 1.0782\n",
      "val_acc: 0.3114\n",
      "train_loss: 2.8047\n",
      "train_acc: 0.6419\n",
      "\n",
      "Epoch 80:\n",
      "val_loss: 1.0842\n",
      "val_acc: 0.2759\n",
      "train_loss: 2.8149\n",
      "train_acc: 0.6370\n",
      "\n",
      "Epoch 81:\n",
      "val_loss: 1.0843\n",
      "val_acc: 0.2946\n",
      "train_loss: 2.8097\n",
      "train_acc: 0.6232\n",
      "\n",
      "Epoch 82:\n",
      "val_loss: 1.0850\n",
      "val_acc: 0.2728\n",
      "train_loss: 2.8181\n",
      "train_acc: 0.6252\n",
      "\n",
      "Epoch 83:\n",
      "val_loss: 1.0753\n",
      "val_acc: 0.3285\n",
      "train_loss: 2.8184\n",
      "train_acc: 0.6172\n",
      "\n",
      "Epoch 84:\n",
      "val_loss: 1.0753\n",
      "val_acc: 0.2953\n",
      "train_loss: 2.8181\n",
      "train_acc: 0.6322\n",
      "\n",
      "Epoch 85:\n",
      "val_loss: 1.0805\n",
      "val_acc: 0.3099\n",
      "train_loss: 2.8033\n",
      "train_acc: 0.6318\n",
      "\n",
      "Epoch 86:\n",
      "val_loss: 1.0854\n",
      "val_acc: 0.2414\n",
      "train_loss: 2.8124\n",
      "train_acc: 0.6357\n",
      "\n",
      "Epoch 87:\n",
      "val_loss: 1.0778\n",
      "val_acc: 0.3296\n",
      "train_loss: 2.8069\n",
      "train_acc: 0.6296\n"
     ]
    },
    {
     "name": "stderr",
     "output_type": "stream",
     "text": [
      "Metric val_loss improved by 0.000 >= min_delta = 0.0001. New best score: 1.075\n"
     ]
    },
    {
     "name": "stdout",
     "output_type": "stream",
     "text": [
      "\n",
      "Epoch 88:\n",
      "val_loss: 1.0749\n",
      "val_acc: 0.2668\n",
      "train_loss: 2.8101\n",
      "train_acc: 0.6230\n",
      "\n",
      "Epoch 89:\n",
      "val_loss: 1.0778\n",
      "val_acc: 0.2572\n",
      "train_loss: 2.8025\n",
      "train_acc: 0.6352\n",
      "\n",
      "Epoch 90:\n",
      "val_loss: 1.0783\n",
      "val_acc: 0.2803\n",
      "train_loss: 2.8177\n",
      "train_acc: 0.6227\n"
     ]
    },
    {
     "name": "stderr",
     "output_type": "stream",
     "text": [
      "Metric val_loss improved by 0.002 >= min_delta = 0.0001. New best score: 1.073\n"
     ]
    },
    {
     "name": "stdout",
     "output_type": "stream",
     "text": [
      "\n",
      "Epoch 91:\n",
      "val_loss: 1.0731\n",
      "val_acc: 0.2842\n",
      "train_loss: 2.8202\n",
      "train_acc: 0.6200\n",
      "\n",
      "Epoch 92:\n",
      "val_loss: 1.0832\n",
      "val_acc: 0.2450\n",
      "train_loss: 2.8113\n",
      "train_acc: 0.6288\n",
      "\n",
      "Epoch 93:\n",
      "val_loss: 1.0737\n",
      "val_acc: 0.3017\n",
      "train_loss: 2.8131\n",
      "train_acc: 0.6217\n",
      "\n",
      "Epoch 94:\n",
      "val_loss: 1.0743\n",
      "val_acc: 0.2730\n",
      "train_loss: 2.8046\n",
      "train_acc: 0.6234\n"
     ]
    },
    {
     "name": "stderr",
     "output_type": "stream",
     "text": [
      "Metric val_loss improved by 0.001 >= min_delta = 0.0001. New best score: 1.072\n"
     ]
    },
    {
     "name": "stdout",
     "output_type": "stream",
     "text": [
      "\n",
      "Epoch 95:\n",
      "val_loss: 1.0723\n",
      "val_acc: 0.2501\n",
      "train_loss: 2.8130\n",
      "train_acc: 0.6215\n",
      "\n",
      "Epoch 96:\n",
      "val_loss: 1.0742\n",
      "val_acc: 0.2890\n",
      "train_loss: 2.7974\n",
      "train_acc: 0.6230\n",
      "\n",
      "Epoch 97:\n",
      "val_loss: 1.0793\n",
      "val_acc: 0.2839\n",
      "train_loss: 2.8129\n",
      "train_acc: 0.6289\n"
     ]
    },
    {
     "name": "stderr",
     "output_type": "stream",
     "text": [
      "Metric val_loss improved by 0.001 >= min_delta = 0.0001. New best score: 1.071\n"
     ]
    },
    {
     "name": "stdout",
     "output_type": "stream",
     "text": [
      "\n",
      "Epoch 98:\n",
      "val_loss: 1.0712\n",
      "val_acc: 0.2729\n",
      "train_loss: 2.8063\n",
      "train_acc: 0.6333\n"
     ]
    },
    {
     "name": "stderr",
     "output_type": "stream",
     "text": [
      "`Trainer.fit` stopped: `max_epochs=100` reached.\n"
     ]
    },
    {
     "name": "stdout",
     "output_type": "stream",
     "text": [
      "\n",
      "Epoch 99:\n",
      "val_loss: 1.0748\n",
      "val_acc: 0.2248\n",
      "train_loss: 2.7953\n",
      "train_acc: 0.5940\n",
      "\n",
      "Classification Report:\n",
      "              precision    recall  f1-score   support\n",
      "\n",
      "           0       0.99      0.69      0.82      9573\n",
      "           1       0.11      0.89      0.20       427\n",
      "\n",
      "    accuracy                           0.70     10000\n",
      "   macro avg       0.55      0.79      0.51     10000\n",
      "weighted avg       0.96      0.70      0.79     10000\n",
      "\n"
     ]
    },
    {
     "data": {
      "image/png": "[encoded data removed]",
      "text/plain": [
       "<Figure size 800x600 with 2 Axes>"
      ]
     },
     "metadata": {},
     "output_type": "display_data"
    }
   ],
   "source": [
    "networks_data = {}\n",
    "data_module, input_size, scaler = dr.prepare_data_module(driver_df_1_train, 'NB_Claim', 85)\n",
    "networks_data[\"AMT\"] = {\n",
    "    'model': dr.create_subsim1(input_size),\n",
    "    'data_module': data_module\n",
    "}\n",
    "#trainer = pl.Trainer(max_epochs=100)\n",
    "for name, data in networks_data.items():\n",
    "    print(f\"Training {name}\")\n",
    "    model = dr.train_model_with_early_stopping(\n",
    "    model=data['model'],\n",
    "    data_module=data['data_module'],\n",
    "    max_epochs=100,\n",
    "    early_stopping_patience=10,\n",
    "    monitor='val_loss',\n",
    "    mode='min'\n",
    "    )\n",
    "    dr.evaluate_model(model, data_module, split='test')"
   ]
  },
  {
   "cell_type": "code",
   "execution_count": 6,
   "metadata": {},
   "outputs": [],
   "source": [
    "with open('models/scaler_1.pkl', 'wb') as f:\n",
    "    pickle.dump(scaler, f)"
   ]
  },
  {
   "cell_type": "code",
   "execution_count": 12,
   "metadata": {},
   "outputs": [
    {
     "name": "stdout",
     "output_type": "stream",
     "text": [
      "Class distribution:\n",
      "Class 1: 4272 samples (100.00%)\n",
      "\n",
      "Classification Report:\n",
      "              precision    recall  f1-score   support\n",
      "\n",
      "           0       0.00      0.00      0.00         0\n",
      "           1       1.00      0.27      0.43      3075\n",
      "\n",
      "    accuracy                           0.27      3075\n",
      "   macro avg       0.50      0.14      0.22      3075\n",
      "weighted avg       1.00      0.27      0.43      3075\n",
      "\n"
     ]
    },
    {
     "name": "stderr",
     "output_type": "stream",
     "text": [
      "/Users/qinyanghe/opt/anaconda3/envs/MLenvironment/lib/python3.11/site-packages/sklearn/metrics/_classification.py:1531: UndefinedMetricWarning: Recall is ill-defined and being set to 0.0 in labels with no true samples. Use `zero_division` parameter to control this behavior.\n",
      "  _warn_prf(average, modifier, f\"{metric.capitalize()} is\", len(result))\n",
      "/Users/qinyanghe/opt/anaconda3/envs/MLenvironment/lib/python3.11/site-packages/sklearn/metrics/_classification.py:1531: UndefinedMetricWarning: Recall is ill-defined and being set to 0.0 in labels with no true samples. Use `zero_division` parameter to control this behavior.\n",
      "  _warn_prf(average, modifier, f\"{metric.capitalize()} is\", len(result))\n",
      "/Users/qinyanghe/opt/anaconda3/envs/MLenvironment/lib/python3.11/site-packages/sklearn/metrics/_classification.py:1531: UndefinedMetricWarning: Recall is ill-defined and being set to 0.0 in labels with no true samples. Use `zero_division` parameter to control this behavior.\n",
      "  _warn_prf(average, modifier, f\"{metric.capitalize()} is\", len(result))\n"
     ]
    },
    {
     "data": {
      "image/png": "[encoded data removed]",
      "text/plain": [
       "<Figure size 800x600 with 2 Axes>"
      ]
     },
     "metadata": {},
     "output_type": "display_data"
    }
   ],
   "source": [
    "driver_df_1 = driver_df.copy()\n",
    "\n",
    "driver_df_1['NB_Claim'] = driver_df_1['NB_Claim'].map(lambda x: 1 if x > 0 else 0)\n",
    "\n",
    "driver_df_1_train = driver_df_1\n",
    "driver_df_1_train = driver_df_1_train.drop(columns=['AMT_Claim'])\n",
    "driver_df_1_train = driver_df_1_train[driver_df_1_train[\"NB_Claim\"]>=1]\n",
    "data_module, input_size = dr.prepare_data_module(driver_df_1_train, 'NB_Claim', 85, oversample_minority=False)\n",
    "data_module.setup()\n",
    "dr.evaluate_model(simu_model_1, data_module, split='train')"
   ]
  },
  {
   "cell_type": "code",
   "execution_count": 41,
   "metadata": {},
   "outputs": [
    {
     "data": {
      "text/html": [
       "<div>\n",
       "<style scoped>\n",
       "    .dataframe tbody tr th:only-of-type {\n",
       "        vertical-align: middle;\n",
       "    }\n",
       "\n",
       "    .dataframe tbody tr th {\n",
       "        vertical-align: top;\n",
       "    }\n",
       "\n",
       "    .dataframe thead th {\n",
       "        text-align: right;\n",
       "    }\n",
       "</style>\n",
       "<table border=\"1\" class=\"dataframe\">\n",
       "  <thead>\n",
       "    <tr style=\"text-align: right;\">\n",
       "      <th></th>\n",
       "      <th>Duration</th>\n",
       "      <th>Insured.age</th>\n",
       "      <th>Car.age</th>\n",
       "      <th>Credit.score</th>\n",
       "      <th>Annual.miles.drive</th>\n",
       "      <th>Years.noclaims</th>\n",
       "      <th>Annual.pct.driven</th>\n",
       "      <th>Total.miles.driven</th>\n",
       "      <th>Pct.drive.mon</th>\n",
       "      <th>Pct.drive.tue</th>\n",
       "      <th>...</th>\n",
       "      <th>Right.turn.intensity10</th>\n",
       "      <th>Right.turn.intensity11</th>\n",
       "      <th>Right.turn.intensity12</th>\n",
       "      <th>NB_Claim</th>\n",
       "      <th>Insured.sex_Male</th>\n",
       "      <th>Marital_Single</th>\n",
       "      <th>Car.use_Commute</th>\n",
       "      <th>Car.use_Farmer</th>\n",
       "      <th>Car.use_Private</th>\n",
       "      <th>Region_Urban</th>\n",
       "    </tr>\n",
       "  </thead>\n",
       "  <tbody>\n",
       "    <tr>\n",
       "      <th>0</th>\n",
       "      <td>366</td>\n",
       "      <td>45</td>\n",
       "      <td>-1</td>\n",
       "      <td>609.0</td>\n",
       "      <td>6213.71</td>\n",
       "      <td>25</td>\n",
       "      <td>0.849315</td>\n",
       "      <td>8864.376247</td>\n",
       "      <td>0.148070</td>\n",
       "      <td>0.152466</td>\n",
       "      <td>...</td>\n",
       "      <td>0.0</td>\n",
       "      <td>0.0</td>\n",
       "      <td>0.0</td>\n",
       "      <td>1</td>\n",
       "      <td>1.0</td>\n",
       "      <td>0.0</td>\n",
       "      <td>1.0</td>\n",
       "      <td>0.0</td>\n",
       "      <td>0.0</td>\n",
       "      <td>1.0</td>\n",
       "    </tr>\n",
       "    <tr>\n",
       "      <th>1</th>\n",
       "      <td>182</td>\n",
       "      <td>44</td>\n",
       "      <td>3</td>\n",
       "      <td>575.0</td>\n",
       "      <td>12427.42</td>\n",
       "      <td>20</td>\n",
       "      <td>0.465753</td>\n",
       "      <td>8092.308208</td>\n",
       "      <td>0.147686</td>\n",
       "      <td>0.136917</td>\n",
       "      <td>...</td>\n",
       "      <td>219.0</td>\n",
       "      <td>101.0</td>\n",
       "      <td>40.0</td>\n",
       "      <td>1</td>\n",
       "      <td>0.0</td>\n",
       "      <td>0.0</td>\n",
       "      <td>1.0</td>\n",
       "      <td>0.0</td>\n",
       "      <td>0.0</td>\n",
       "      <td>1.0</td>\n",
       "    </tr>\n",
       "    <tr>\n",
       "      <th>2</th>\n",
       "      <td>184</td>\n",
       "      <td>48</td>\n",
       "      <td>6</td>\n",
       "      <td>847.0</td>\n",
       "      <td>12427.42</td>\n",
       "      <td>14</td>\n",
       "      <td>0.520548</td>\n",
       "      <td>3225.832512</td>\n",
       "      <td>0.153735</td>\n",
       "      <td>0.097124</td>\n",
       "      <td>...</td>\n",
       "      <td>0.0</td>\n",
       "      <td>0.0</td>\n",
       "      <td>0.0</td>\n",
       "      <td>0</td>\n",
       "      <td>0.0</td>\n",
       "      <td>0.0</td>\n",
       "      <td>1.0</td>\n",
       "      <td>0.0</td>\n",
       "      <td>0.0</td>\n",
       "      <td>1.0</td>\n",
       "    </tr>\n",
       "    <tr>\n",
       "      <th>3</th>\n",
       "      <td>183</td>\n",
       "      <td>71</td>\n",
       "      <td>6</td>\n",
       "      <td>842.0</td>\n",
       "      <td>6213.71</td>\n",
       "      <td>43</td>\n",
       "      <td>0.065753</td>\n",
       "      <td>253.024528</td>\n",
       "      <td>0.106702</td>\n",
       "      <td>0.056437</td>\n",
       "      <td>...</td>\n",
       "      <td>0.0</td>\n",
       "      <td>0.0</td>\n",
       "      <td>0.0</td>\n",
       "      <td>0</td>\n",
       "      <td>1.0</td>\n",
       "      <td>0.0</td>\n",
       "      <td>0.0</td>\n",
       "      <td>0.0</td>\n",
       "      <td>1.0</td>\n",
       "      <td>1.0</td>\n",
       "    </tr>\n",
       "    <tr>\n",
       "      <th>4</th>\n",
       "      <td>183</td>\n",
       "      <td>84</td>\n",
       "      <td>10</td>\n",
       "      <td>856.0</td>\n",
       "      <td>6213.71</td>\n",
       "      <td>65</td>\n",
       "      <td>0.441096</td>\n",
       "      <td>4374.379634</td>\n",
       "      <td>0.123807</td>\n",
       "      <td>0.169661</td>\n",
       "      <td>...</td>\n",
       "      <td>18.0</td>\n",
       "      <td>4.0</td>\n",
       "      <td>2.0</td>\n",
       "      <td>0</td>\n",
       "      <td>1.0</td>\n",
       "      <td>0.0</td>\n",
       "      <td>0.0</td>\n",
       "      <td>0.0</td>\n",
       "      <td>1.0</td>\n",
       "      <td>1.0</td>\n",
       "    </tr>\n",
       "    <tr>\n",
       "      <th>...</th>\n",
       "      <td>...</td>\n",
       "      <td>...</td>\n",
       "      <td>...</td>\n",
       "      <td>...</td>\n",
       "      <td>...</td>\n",
       "      <td>...</td>\n",
       "      <td>...</td>\n",
       "      <td>...</td>\n",
       "      <td>...</td>\n",
       "      <td>...</td>\n",
       "      <td>...</td>\n",
       "      <td>...</td>\n",
       "      <td>...</td>\n",
       "      <td>...</td>\n",
       "      <td>...</td>\n",
       "      <td>...</td>\n",
       "      <td>...</td>\n",
       "      <td>...</td>\n",
       "      <td>...</td>\n",
       "      <td>...</td>\n",
       "      <td>...</td>\n",
       "    </tr>\n",
       "    <tr>\n",
       "      <th>99995</th>\n",
       "      <td>182</td>\n",
       "      <td>61</td>\n",
       "      <td>10</td>\n",
       "      <td>824.0</td>\n",
       "      <td>6213.71</td>\n",
       "      <td>42</td>\n",
       "      <td>0.161644</td>\n",
       "      <td>903.231641</td>\n",
       "      <td>0.068358</td>\n",
       "      <td>0.110253</td>\n",
       "      <td>...</td>\n",
       "      <td>0.0</td>\n",
       "      <td>0.0</td>\n",
       "      <td>0.0</td>\n",
       "      <td>0</td>\n",
       "      <td>1.0</td>\n",
       "      <td>1.0</td>\n",
       "      <td>0.0</td>\n",
       "      <td>0.0</td>\n",
       "      <td>1.0</td>\n",
       "      <td>1.0</td>\n",
       "    </tr>\n",
       "    <tr>\n",
       "      <th>99996</th>\n",
       "      <td>192</td>\n",
       "      <td>48</td>\n",
       "      <td>3</td>\n",
       "      <td>850.0</td>\n",
       "      <td>12427.42</td>\n",
       "      <td>32</td>\n",
       "      <td>0.167123</td>\n",
       "      <td>2870.045192</td>\n",
       "      <td>0.160821</td>\n",
       "      <td>0.124073</td>\n",
       "      <td>...</td>\n",
       "      <td>48.0</td>\n",
       "      <td>22.0</td>\n",
       "      <td>11.0</td>\n",
       "      <td>0</td>\n",
       "      <td>1.0</td>\n",
       "      <td>0.0</td>\n",
       "      <td>1.0</td>\n",
       "      <td>0.0</td>\n",
       "      <td>0.0</td>\n",
       "      <td>1.0</td>\n",
       "    </tr>\n",
       "    <tr>\n",
       "      <th>99997</th>\n",
       "      <td>184</td>\n",
       "      <td>50</td>\n",
       "      <td>2</td>\n",
       "      <td>650.0</td>\n",
       "      <td>6213.71</td>\n",
       "      <td>31</td>\n",
       "      <td>0.117808</td>\n",
       "      <td>935.538222</td>\n",
       "      <td>0.095132</td>\n",
       "      <td>0.076684</td>\n",
       "      <td>...</td>\n",
       "      <td>0.0</td>\n",
       "      <td>0.0</td>\n",
       "      <td>0.0</td>\n",
       "      <td>0</td>\n",
       "      <td>1.0</td>\n",
       "      <td>1.0</td>\n",
       "      <td>1.0</td>\n",
       "      <td>0.0</td>\n",
       "      <td>0.0</td>\n",
       "      <td>0.0</td>\n",
       "    </tr>\n",
       "    <tr>\n",
       "      <th>99998</th>\n",
       "      <td>184</td>\n",
       "      <td>76</td>\n",
       "      <td>2</td>\n",
       "      <td>811.0</td>\n",
       "      <td>6213.71</td>\n",
       "      <td>58</td>\n",
       "      <td>0.473973</td>\n",
       "      <td>4287.600459</td>\n",
       "      <td>0.106783</td>\n",
       "      <td>0.151199</td>\n",
       "      <td>...</td>\n",
       "      <td>0.0</td>\n",
       "      <td>0.0</td>\n",
       "      <td>0.0</td>\n",
       "      <td>0</td>\n",
       "      <td>1.0</td>\n",
       "      <td>0.0</td>\n",
       "      <td>0.0</td>\n",
       "      <td>0.0</td>\n",
       "      <td>1.0</td>\n",
       "      <td>0.0</td>\n",
       "    </tr>\n",
       "    <tr>\n",
       "      <th>99999</th>\n",
       "      <td>365</td>\n",
       "      <td>25</td>\n",
       "      <td>2</td>\n",
       "      <td>818.0</td>\n",
       "      <td>12427.42</td>\n",
       "      <td>7</td>\n",
       "      <td>0.421918</td>\n",
       "      <td>6131.406302</td>\n",
       "      <td>0.107360</td>\n",
       "      <td>0.220392</td>\n",
       "      <td>...</td>\n",
       "      <td>31.0</td>\n",
       "      <td>12.0</td>\n",
       "      <td>9.0</td>\n",
       "      <td>0</td>\n",
       "      <td>0.0</td>\n",
       "      <td>1.0</td>\n",
       "      <td>0.0</td>\n",
       "      <td>0.0</td>\n",
       "      <td>0.0</td>\n",
       "      <td>0.0</td>\n",
       "    </tr>\n",
       "  </tbody>\n",
       "</table>\n",
       "<p>100000 rows × 52 columns</p>\n",
       "</div>"
      ],
      "text/plain": [
       "       Duration  Insured.age  Car.age  Credit.score  Annual.miles.drive  \\\n",
       "0           366           45       -1         609.0             6213.71   \n",
       "1           182           44        3         575.0            12427.42   \n",
       "2           184           48        6         847.0            12427.42   \n",
       "3           183           71        6         842.0             6213.71   \n",
       "4           183           84       10         856.0             6213.71   \n",
       "...         ...          ...      ...           ...                 ...   \n",
       "99995       182           61       10         824.0             6213.71   \n",
       "99996       192           48        3         850.0            12427.42   \n",
       "99997       184           50        2         650.0             6213.71   \n",
       "99998       184           76        2         811.0             6213.71   \n",
       "99999       365           25        2         818.0            12427.42   \n",
       "\n",
       "       Years.noclaims  Annual.pct.driven  Total.miles.driven  Pct.drive.mon  \\\n",
       "0                  25           0.849315         8864.376247       0.148070   \n",
       "1                  20           0.465753         8092.308208       0.147686   \n",
       "2                  14           0.520548         3225.832512       0.153735   \n",
       "3                  43           0.065753          253.024528       0.106702   \n",
       "4                  65           0.441096         4374.379634       0.123807   \n",
       "...               ...                ...                 ...            ...   \n",
       "99995              42           0.161644          903.231641       0.068358   \n",
       "99996              32           0.167123         2870.045192       0.160821   \n",
       "99997              31           0.117808          935.538222       0.095132   \n",
       "99998              58           0.473973         4287.600459       0.106783   \n",
       "99999               7           0.421918         6131.406302       0.107360   \n",
       "\n",
       "       Pct.drive.tue  ...  Right.turn.intensity10  Right.turn.intensity11  \\\n",
       "0           0.152466  ...                     0.0                     0.0   \n",
       "1           0.136917  ...                   219.0                   101.0   \n",
       "2           0.097124  ...                     0.0                     0.0   \n",
       "3           0.056437  ...                     0.0                     0.0   \n",
       "4           0.169661  ...                    18.0                     4.0   \n",
       "...              ...  ...                     ...                     ...   \n",
       "99995       0.110253  ...                     0.0                     0.0   \n",
       "99996       0.124073  ...                    48.0                    22.0   \n",
       "99997       0.076684  ...                     0.0                     0.0   \n",
       "99998       0.151199  ...                     0.0                     0.0   \n",
       "99999       0.220392  ...                    31.0                    12.0   \n",
       "\n",
       "       Right.turn.intensity12  NB_Claim  Insured.sex_Male  Marital_Single  \\\n",
       "0                         0.0         1               1.0             0.0   \n",
       "1                        40.0         1               0.0             0.0   \n",
       "2                         0.0         0               0.0             0.0   \n",
       "3                         0.0         0               1.0             0.0   \n",
       "4                         2.0         0               1.0             0.0   \n",
       "...                       ...       ...               ...             ...   \n",
       "99995                     0.0         0               1.0             1.0   \n",
       "99996                    11.0         0               1.0             0.0   \n",
       "99997                     0.0         0               1.0             1.0   \n",
       "99998                     0.0         0               1.0             0.0   \n",
       "99999                     9.0         0               0.0             1.0   \n",
       "\n",
       "       Car.use_Commute  Car.use_Farmer  Car.use_Private  Region_Urban  \n",
       "0                  1.0             0.0              0.0           1.0  \n",
       "1                  1.0             0.0              0.0           1.0  \n",
       "2                  1.0             0.0              0.0           1.0  \n",
       "3                  0.0             0.0              1.0           1.0  \n",
       "4                  0.0             0.0              1.0           1.0  \n",
       "...                ...             ...              ...           ...  \n",
       "99995              0.0             0.0              1.0           1.0  \n",
       "99996              1.0             0.0              0.0           1.0  \n",
       "99997              1.0             0.0              0.0           0.0  \n",
       "99998              0.0             0.0              1.0           0.0  \n",
       "99999              0.0             0.0              0.0           0.0  \n",
       "\n",
       "[100000 rows x 52 columns]"
      ]
     },
     "execution_count": 41,
     "metadata": {},
     "output_type": "execute_result"
    }
   ],
   "source": [
    "driver_df_1_train"
   ]
  },
  {
   "cell_type": "code",
   "execution_count": 7,
   "metadata": {},
   "outputs": [],
   "source": [
    "driver_df_2 = driver_df.copy()\n",
    "driver_df_2 = driver_df_2[driver_df_2['NB_Claim'] >= 1]\n",
    "driver_df_2['NB_Claim'] = driver_df_2['NB_Claim'].map(lambda x: 1 if x > 1 else 0)\n",
    "\n",
    "driver_df_2_train = driver_df_2\n",
    "driver_df_2_train = driver_df_2_train.drop(columns=['AMT_Claim'])"
   ]
  },
  {
   "cell_type": "code",
   "execution_count": 28,
   "metadata": {},
   "outputs": [
    {
     "data": {
      "text/html": [
       "<div>\n",
       "<style scoped>\n",
       "    .dataframe tbody tr th:only-of-type {\n",
       "        vertical-align: middle;\n",
       "    }\n",
       "\n",
       "    .dataframe tbody tr th {\n",
       "        vertical-align: top;\n",
       "    }\n",
       "\n",
       "    .dataframe thead th {\n",
       "        text-align: right;\n",
       "    }\n",
       "</style>\n",
       "<table border=\"1\" class=\"dataframe\">\n",
       "  <thead>\n",
       "    <tr style=\"text-align: right;\">\n",
       "      <th></th>\n",
       "      <th>Duration</th>\n",
       "      <th>Insured.age</th>\n",
       "      <th>Car.age</th>\n",
       "      <th>Credit.score</th>\n",
       "      <th>Annual.miles.drive</th>\n",
       "      <th>Years.noclaims</th>\n",
       "      <th>Annual.pct.driven</th>\n",
       "      <th>Total.miles.driven</th>\n",
       "      <th>Pct.drive.mon</th>\n",
       "      <th>Pct.drive.tue</th>\n",
       "      <th>...</th>\n",
       "      <th>Right.turn.intensity10</th>\n",
       "      <th>Right.turn.intensity11</th>\n",
       "      <th>Right.turn.intensity12</th>\n",
       "      <th>NB_Claim</th>\n",
       "      <th>Insured.sex_Male</th>\n",
       "      <th>Marital_Single</th>\n",
       "      <th>Car.use_Commute</th>\n",
       "      <th>Car.use_Farmer</th>\n",
       "      <th>Car.use_Private</th>\n",
       "      <th>Region_Urban</th>\n",
       "    </tr>\n",
       "  </thead>\n",
       "  <tbody>\n",
       "    <tr>\n",
       "      <th>0</th>\n",
       "      <td>366</td>\n",
       "      <td>45</td>\n",
       "      <td>-1</td>\n",
       "      <td>609.0</td>\n",
       "      <td>6213.710</td>\n",
       "      <td>25</td>\n",
       "      <td>0.849315</td>\n",
       "      <td>8864.376247</td>\n",
       "      <td>0.148070</td>\n",
       "      <td>0.152466</td>\n",
       "      <td>...</td>\n",
       "      <td>0.0</td>\n",
       "      <td>0.0</td>\n",
       "      <td>0.0</td>\n",
       "      <td>0</td>\n",
       "      <td>1.0</td>\n",
       "      <td>0.0</td>\n",
       "      <td>1.0</td>\n",
       "      <td>0.0</td>\n",
       "      <td>0.0</td>\n",
       "      <td>1.0</td>\n",
       "    </tr>\n",
       "    <tr>\n",
       "      <th>1</th>\n",
       "      <td>182</td>\n",
       "      <td>44</td>\n",
       "      <td>3</td>\n",
       "      <td>575.0</td>\n",
       "      <td>12427.420</td>\n",
       "      <td>20</td>\n",
       "      <td>0.465753</td>\n",
       "      <td>8092.308208</td>\n",
       "      <td>0.147686</td>\n",
       "      <td>0.136917</td>\n",
       "      <td>...</td>\n",
       "      <td>219.0</td>\n",
       "      <td>101.0</td>\n",
       "      <td>40.0</td>\n",
       "      <td>0</td>\n",
       "      <td>0.0</td>\n",
       "      <td>0.0</td>\n",
       "      <td>1.0</td>\n",
       "      <td>0.0</td>\n",
       "      <td>0.0</td>\n",
       "      <td>1.0</td>\n",
       "    </tr>\n",
       "    <tr>\n",
       "      <th>14</th>\n",
       "      <td>366</td>\n",
       "      <td>77</td>\n",
       "      <td>8</td>\n",
       "      <td>814.0</td>\n",
       "      <td>6213.710</td>\n",
       "      <td>19</td>\n",
       "      <td>0.747945</td>\n",
       "      <td>7309.344429</td>\n",
       "      <td>0.119339</td>\n",
       "      <td>0.194950</td>\n",
       "      <td>...</td>\n",
       "      <td>222.0</td>\n",
       "      <td>103.0</td>\n",
       "      <td>40.0</td>\n",
       "      <td>0</td>\n",
       "      <td>1.0</td>\n",
       "      <td>0.0</td>\n",
       "      <td>0.0</td>\n",
       "      <td>0.0</td>\n",
       "      <td>1.0</td>\n",
       "      <td>1.0</td>\n",
       "    </tr>\n",
       "    <tr>\n",
       "      <th>27</th>\n",
       "      <td>365</td>\n",
       "      <td>51</td>\n",
       "      <td>6</td>\n",
       "      <td>824.0</td>\n",
       "      <td>12427.420</td>\n",
       "      <td>34</td>\n",
       "      <td>1.000000</td>\n",
       "      <td>16902.354863</td>\n",
       "      <td>0.138921</td>\n",
       "      <td>0.146376</td>\n",
       "      <td>...</td>\n",
       "      <td>29.0</td>\n",
       "      <td>7.0</td>\n",
       "      <td>2.0</td>\n",
       "      <td>0</td>\n",
       "      <td>1.0</td>\n",
       "      <td>0.0</td>\n",
       "      <td>1.0</td>\n",
       "      <td>0.0</td>\n",
       "      <td>0.0</td>\n",
       "      <td>1.0</td>\n",
       "    </tr>\n",
       "    <tr>\n",
       "      <th>42</th>\n",
       "      <td>365</td>\n",
       "      <td>66</td>\n",
       "      <td>5</td>\n",
       "      <td>842.0</td>\n",
       "      <td>12427.420</td>\n",
       "      <td>45</td>\n",
       "      <td>0.673973</td>\n",
       "      <td>8095.338964</td>\n",
       "      <td>0.105028</td>\n",
       "      <td>0.155433</td>\n",
       "      <td>...</td>\n",
       "      <td>8.0</td>\n",
       "      <td>2.0</td>\n",
       "      <td>1.0</td>\n",
       "      <td>0</td>\n",
       "      <td>0.0</td>\n",
       "      <td>0.0</td>\n",
       "      <td>0.0</td>\n",
       "      <td>0.0</td>\n",
       "      <td>1.0</td>\n",
       "      <td>1.0</td>\n",
       "    </tr>\n",
       "    <tr>\n",
       "      <th>...</th>\n",
       "      <td>...</td>\n",
       "      <td>...</td>\n",
       "      <td>...</td>\n",
       "      <td>...</td>\n",
       "      <td>...</td>\n",
       "      <td>...</td>\n",
       "      <td>...</td>\n",
       "      <td>...</td>\n",
       "      <td>...</td>\n",
       "      <td>...</td>\n",
       "      <td>...</td>\n",
       "      <td>...</td>\n",
       "      <td>...</td>\n",
       "      <td>...</td>\n",
       "      <td>...</td>\n",
       "      <td>...</td>\n",
       "      <td>...</td>\n",
       "      <td>...</td>\n",
       "      <td>...</td>\n",
       "      <td>...</td>\n",
       "      <td>...</td>\n",
       "    </tr>\n",
       "    <tr>\n",
       "      <th>99833</th>\n",
       "      <td>366</td>\n",
       "      <td>45</td>\n",
       "      <td>6</td>\n",
       "      <td>721.0</td>\n",
       "      <td>15534.275</td>\n",
       "      <td>11</td>\n",
       "      <td>0.920548</td>\n",
       "      <td>17542.396620</td>\n",
       "      <td>0.115797</td>\n",
       "      <td>0.124605</td>\n",
       "      <td>...</td>\n",
       "      <td>348.0</td>\n",
       "      <td>163.0</td>\n",
       "      <td>70.0</td>\n",
       "      <td>0</td>\n",
       "      <td>1.0</td>\n",
       "      <td>0.0</td>\n",
       "      <td>1.0</td>\n",
       "      <td>0.0</td>\n",
       "      <td>0.0</td>\n",
       "      <td>1.0</td>\n",
       "    </tr>\n",
       "    <tr>\n",
       "      <th>99842</th>\n",
       "      <td>366</td>\n",
       "      <td>47</td>\n",
       "      <td>4</td>\n",
       "      <td>682.0</td>\n",
       "      <td>12427.420</td>\n",
       "      <td>8</td>\n",
       "      <td>0.545205</td>\n",
       "      <td>5983.406580</td>\n",
       "      <td>0.140313</td>\n",
       "      <td>0.182449</td>\n",
       "      <td>...</td>\n",
       "      <td>1.0</td>\n",
       "      <td>0.0</td>\n",
       "      <td>0.0</td>\n",
       "      <td>0</td>\n",
       "      <td>0.0</td>\n",
       "      <td>1.0</td>\n",
       "      <td>1.0</td>\n",
       "      <td>0.0</td>\n",
       "      <td>0.0</td>\n",
       "      <td>1.0</td>\n",
       "    </tr>\n",
       "    <tr>\n",
       "      <th>99915</th>\n",
       "      <td>328</td>\n",
       "      <td>29</td>\n",
       "      <td>5</td>\n",
       "      <td>593.0</td>\n",
       "      <td>6213.710</td>\n",
       "      <td>10</td>\n",
       "      <td>0.624658</td>\n",
       "      <td>7802.424028</td>\n",
       "      <td>0.128063</td>\n",
       "      <td>0.161626</td>\n",
       "      <td>...</td>\n",
       "      <td>221.0</td>\n",
       "      <td>116.0</td>\n",
       "      <td>47.0</td>\n",
       "      <td>0</td>\n",
       "      <td>0.0</td>\n",
       "      <td>1.0</td>\n",
       "      <td>0.0</td>\n",
       "      <td>0.0</td>\n",
       "      <td>1.0</td>\n",
       "      <td>1.0</td>\n",
       "    </tr>\n",
       "    <tr>\n",
       "      <th>99919</th>\n",
       "      <td>366</td>\n",
       "      <td>51</td>\n",
       "      <td>0</td>\n",
       "      <td>623.0</td>\n",
       "      <td>6213.710</td>\n",
       "      <td>12</td>\n",
       "      <td>0.953425</td>\n",
       "      <td>13058.216403</td>\n",
       "      <td>0.154316</td>\n",
       "      <td>0.143480</td>\n",
       "      <td>...</td>\n",
       "      <td>34.0</td>\n",
       "      <td>18.0</td>\n",
       "      <td>9.0</td>\n",
       "      <td>0</td>\n",
       "      <td>1.0</td>\n",
       "      <td>0.0</td>\n",
       "      <td>1.0</td>\n",
       "      <td>0.0</td>\n",
       "      <td>0.0</td>\n",
       "      <td>1.0</td>\n",
       "    </tr>\n",
       "    <tr>\n",
       "      <th>99991</th>\n",
       "      <td>365</td>\n",
       "      <td>46</td>\n",
       "      <td>1</td>\n",
       "      <td>817.0</td>\n",
       "      <td>6213.710</td>\n",
       "      <td>11</td>\n",
       "      <td>0.978082</td>\n",
       "      <td>7285.262587</td>\n",
       "      <td>0.108923</td>\n",
       "      <td>0.119706</td>\n",
       "      <td>...</td>\n",
       "      <td>249.0</td>\n",
       "      <td>108.0</td>\n",
       "      <td>48.0</td>\n",
       "      <td>0</td>\n",
       "      <td>1.0</td>\n",
       "      <td>0.0</td>\n",
       "      <td>1.0</td>\n",
       "      <td>0.0</td>\n",
       "      <td>0.0</td>\n",
       "      <td>1.0</td>\n",
       "    </tr>\n",
       "  </tbody>\n",
       "</table>\n",
       "<p>4272 rows × 52 columns</p>\n",
       "</div>"
      ],
      "text/plain": [
       "       Duration  Insured.age  Car.age  Credit.score  Annual.miles.drive  \\\n",
       "0           366           45       -1         609.0            6213.710   \n",
       "1           182           44        3         575.0           12427.420   \n",
       "14          366           77        8         814.0            6213.710   \n",
       "27          365           51        6         824.0           12427.420   \n",
       "42          365           66        5         842.0           12427.420   \n",
       "...         ...          ...      ...           ...                 ...   \n",
       "99833       366           45        6         721.0           15534.275   \n",
       "99842       366           47        4         682.0           12427.420   \n",
       "99915       328           29        5         593.0            6213.710   \n",
       "99919       366           51        0         623.0            6213.710   \n",
       "99991       365           46        1         817.0            6213.710   \n",
       "\n",
       "       Years.noclaims  Annual.pct.driven  Total.miles.driven  Pct.drive.mon  \\\n",
       "0                  25           0.849315         8864.376247       0.148070   \n",
       "1                  20           0.465753         8092.308208       0.147686   \n",
       "14                 19           0.747945         7309.344429       0.119339   \n",
       "27                 34           1.000000        16902.354863       0.138921   \n",
       "42                 45           0.673973         8095.338964       0.105028   \n",
       "...               ...                ...                 ...            ...   \n",
       "99833              11           0.920548        17542.396620       0.115797   \n",
       "99842               8           0.545205         5983.406580       0.140313   \n",
       "99915              10           0.624658         7802.424028       0.128063   \n",
       "99919              12           0.953425        13058.216403       0.154316   \n",
       "99991              11           0.978082         7285.262587       0.108923   \n",
       "\n",
       "       Pct.drive.tue  ...  Right.turn.intensity10  Right.turn.intensity11  \\\n",
       "0           0.152466  ...                     0.0                     0.0   \n",
       "1           0.136917  ...                   219.0                   101.0   \n",
       "14          0.194950  ...                   222.0                   103.0   \n",
       "27          0.146376  ...                    29.0                     7.0   \n",
       "42          0.155433  ...                     8.0                     2.0   \n",
       "...              ...  ...                     ...                     ...   \n",
       "99833       0.124605  ...                   348.0                   163.0   \n",
       "99842       0.182449  ...                     1.0                     0.0   \n",
       "99915       0.161626  ...                   221.0                   116.0   \n",
       "99919       0.143480  ...                    34.0                    18.0   \n",
       "99991       0.119706  ...                   249.0                   108.0   \n",
       "\n",
       "       Right.turn.intensity12  NB_Claim  Insured.sex_Male  Marital_Single  \\\n",
       "0                         0.0         0               1.0             0.0   \n",
       "1                        40.0         0               0.0             0.0   \n",
       "14                       40.0         0               1.0             0.0   \n",
       "27                        2.0         0               1.0             0.0   \n",
       "42                        1.0         0               0.0             0.0   \n",
       "...                       ...       ...               ...             ...   \n",
       "99833                    70.0         0               1.0             0.0   \n",
       "99842                     0.0         0               0.0             1.0   \n",
       "99915                    47.0         0               0.0             1.0   \n",
       "99919                     9.0         0               1.0             0.0   \n",
       "99991                    48.0         0               1.0             0.0   \n",
       "\n",
       "       Car.use_Commute  Car.use_Farmer  Car.use_Private  Region_Urban  \n",
       "0                  1.0             0.0              0.0           1.0  \n",
       "1                  1.0             0.0              0.0           1.0  \n",
       "14                 0.0             0.0              1.0           1.0  \n",
       "27                 1.0             0.0              0.0           1.0  \n",
       "42                 0.0             0.0              1.0           1.0  \n",
       "...                ...             ...              ...           ...  \n",
       "99833              1.0             0.0              0.0           1.0  \n",
       "99842              1.0             0.0              0.0           1.0  \n",
       "99915              0.0             0.0              1.0           1.0  \n",
       "99919              1.0             0.0              0.0           1.0  \n",
       "99991              1.0             0.0              0.0           1.0  \n",
       "\n",
       "[4272 rows x 52 columns]"
      ]
     },
     "execution_count": 28,
     "metadata": {},
     "output_type": "execute_result"
    }
   ],
   "source": [
    "driver_df_2_train"
   ]
  },
  {
   "cell_type": "code",
   "execution_count": 118,
   "metadata": {},
   "outputs": [
    {
     "data": {
      "text/plain": [
       "200"
      ]
     },
     "execution_count": 118,
     "metadata": {},
     "output_type": "execute_result"
    }
   ],
   "source": [
    "sum(driver_df[driver_df['NB_Claim'] >= 1]['NB_Claim'] == 2)"
   ]
  },
  {
   "cell_type": "code",
   "execution_count": 32,
   "metadata": {},
   "outputs": [
    {
     "data": {
      "text/plain": [
       "<module 'DriverRisk' from '/Users/qinyanghe/Library/Mobile Documents/com~apple~CloudDocs/Documents/driver behavior modeling/DriverRisk.py'>"
      ]
     },
     "execution_count": 32,
     "metadata": {},
     "output_type": "execute_result"
    }
   ],
   "source": [
    "import importlib\n",
    "importlib.reload(dr)"
   ]
  },
  {
   "cell_type": "code",
   "execution_count": 8,
   "metadata": {},
   "outputs": [
    {
     "name": "stderr",
     "output_type": "stream",
     "text": [
      "GPU available: False, used: False\n",
      "TPU available: False, using: 0 TPU cores\n",
      "HPU available: False, using: 0 HPUs\n",
      "\n",
      "  | Name           | Type           | Params | Mode \n",
      "----------------------------------------------------------\n",
      "0 | train_accuracy | BinaryAccuracy | 0      | train\n",
      "1 | val_accuracy   | BinaryAccuracy | 0      | train\n",
      "2 | network        | Sequential     | 61.0 K | train\n",
      "----------------------------------------------------------\n",
      "61.0 K    Trainable params\n",
      "0         Non-trainable params\n",
      "61.0 K    Total params\n",
      "0.244     Total estimated model params size (MB)\n",
      "14        Modules in train mode\n",
      "0         Modules in eval mode\n"
     ]
    },
    {
     "name": "stdout",
     "output_type": "stream",
     "text": [
      "Class distribution:\n",
      "Class 0: 4061 samples (95.06%)\n",
      "Class 1: 211 samples (4.94%)\n",
      "Training AMT\n"
     ]
    },
    {
     "name": "stderr",
     "output_type": "stream",
     "text": [
      "/Users/qinyanghe/opt/anaconda3/envs/MLenvironment/lib/python3.11/site-packages/pytorch_lightning/trainer/connectors/data_connector.py:420: Consider setting `persistent_workers=True` in 'val_dataloader' to speed up the dataloader worker initialization.\n",
      "/Users/qinyanghe/opt/anaconda3/envs/MLenvironment/lib/python3.11/site-packages/pytorch_lightning/trainer/connectors/data_connector.py:420: Consider setting `persistent_workers=True` in 'train_dataloader' to speed up the dataloader worker initialization.\n",
      "Metric val_loss improved. New best score: 1.479\n"
     ]
    },
    {
     "name": "stdout",
     "output_type": "stream",
     "text": [
      "\n",
      "Epoch 0:\n",
      "val_loss: 1.4794\n",
      "val_acc: 0.0494\n",
      "\n",
      "Epoch 1:\n",
      "val_loss: 1.4794\n",
      "val_acc: 0.0494\n",
      "train_loss: 3.0649\n",
      "train_acc: 0.4963\n",
      "\n",
      "Epoch 2:\n",
      "val_loss: 1.4795\n",
      "val_acc: 0.0494\n",
      "train_loss: 2.9542\n",
      "train_acc: 0.4849\n",
      "\n",
      "Epoch 3:\n",
      "val_loss: 1.4795\n",
      "val_acc: 0.0494\n",
      "train_loss: 3.0448\n",
      "train_acc: 0.5115\n",
      "\n",
      "Epoch 4:\n",
      "val_loss: 1.4794\n",
      "val_acc: 0.0494\n",
      "train_loss: 3.0248\n",
      "train_acc: 0.5057\n"
     ]
    },
    {
     "name": "stderr",
     "output_type": "stream",
     "text": [
      "Metric val_loss improved by 0.098 >= min_delta = 0.0001. New best score: 1.381\n"
     ]
    },
    {
     "name": "stdout",
     "output_type": "stream",
     "text": [
      "\n",
      "Epoch 5:\n",
      "val_loss: 1.3811\n",
      "val_acc: 0.0533\n",
      "train_loss: 3.0353\n",
      "train_acc: 0.5086\n",
      "\n",
      "Epoch 6:\n",
      "val_loss: 1.3833\n",
      "val_acc: 0.0572\n",
      "train_loss: 2.9691\n",
      "train_acc: 0.4950\n"
     ]
    },
    {
     "name": "stderr",
     "output_type": "stream",
     "text": [
      "Metric val_loss improved by 0.024 >= min_delta = 0.0001. New best score: 1.357\n"
     ]
    },
    {
     "name": "stdout",
     "output_type": "stream",
     "text": [
      "\n",
      "Epoch 7:\n",
      "val_loss: 1.3569\n",
      "val_acc: 0.0689\n",
      "train_loss: 3.0442\n",
      "train_acc: 0.5275\n"
     ]
    },
    {
     "name": "stderr",
     "output_type": "stream",
     "text": [
      "Metric val_loss improved by 0.039 >= min_delta = 0.0001. New best score: 1.318\n"
     ]
    },
    {
     "name": "stdout",
     "output_type": "stream",
     "text": [
      "\n",
      "Epoch 8:\n",
      "val_loss: 1.3183\n",
      "val_acc: 0.1040\n",
      "train_loss: 2.9086\n",
      "train_acc: 0.4972\n",
      "\n",
      "Epoch 9:\n",
      "val_loss: 1.3370\n",
      "val_acc: 0.0780\n",
      "train_loss: 2.9440\n",
      "train_acc: 0.5294\n",
      "\n",
      "Epoch 10:\n",
      "val_loss: 1.3323\n",
      "val_acc: 0.1014\n",
      "train_loss: 2.9458\n",
      "train_acc: 0.5177\n"
     ]
    },
    {
     "name": "stderr",
     "output_type": "stream",
     "text": [
      "Metric val_loss improved by 0.009 >= min_delta = 0.0001. New best score: 1.309\n"
     ]
    },
    {
     "name": "stdout",
     "output_type": "stream",
     "text": [
      "\n",
      "Epoch 11:\n",
      "val_loss: 1.3095\n",
      "val_acc: 0.1222\n",
      "train_loss: 2.9105\n",
      "train_acc: 0.5226\n"
     ]
    },
    {
     "name": "stderr",
     "output_type": "stream",
     "text": [
      "Metric val_loss improved by 0.037 >= min_delta = 0.0001. New best score: 1.273\n"
     ]
    },
    {
     "name": "stdout",
     "output_type": "stream",
     "text": [
      "\n",
      "Epoch 12:\n",
      "val_loss: 1.2729\n",
      "val_acc: 0.1443\n",
      "train_loss: 2.8854\n",
      "train_acc: 0.5259\n",
      "\n",
      "Epoch 13:\n",
      "val_loss: 1.2903\n",
      "val_acc: 0.1118\n",
      "train_loss: 2.9397\n",
      "train_acc: 0.5633\n",
      "\n",
      "Epoch 14:\n",
      "val_loss: 1.2986\n",
      "val_acc: 0.1443\n",
      "train_loss: 2.9040\n",
      "train_acc: 0.5623\n"
     ]
    },
    {
     "name": "stderr",
     "output_type": "stream",
     "text": [
      "Metric val_loss improved by 0.014 >= min_delta = 0.0001. New best score: 1.259\n"
     ]
    },
    {
     "name": "stdout",
     "output_type": "stream",
     "text": [
      "\n",
      "Epoch 15:\n",
      "val_loss: 1.2588\n",
      "val_acc: 0.2042\n",
      "train_loss: 2.8620\n",
      "train_acc: 0.5317\n",
      "\n",
      "Epoch 16:\n",
      "val_loss: 1.2617\n",
      "val_acc: 0.1964\n",
      "train_loss: 2.8220\n",
      "train_acc: 0.5600\n"
     ]
    },
    {
     "name": "stderr",
     "output_type": "stream",
     "text": [
      "Metric val_loss improved by 0.024 >= min_delta = 0.0001. New best score: 1.235\n"
     ]
    },
    {
     "name": "stdout",
     "output_type": "stream",
     "text": [
      "\n",
      "Epoch 17:\n",
      "val_loss: 1.2348\n",
      "val_acc: 0.2120\n",
      "train_loss: 2.8564\n",
      "train_acc: 0.5837\n"
     ]
    },
    {
     "name": "stderr",
     "output_type": "stream",
     "text": [
      "Metric val_loss improved by 0.002 >= min_delta = 0.0001. New best score: 1.233\n"
     ]
    },
    {
     "name": "stdout",
     "output_type": "stream",
     "text": [
      "\n",
      "Epoch 18:\n",
      "val_loss: 1.2333\n",
      "val_acc: 0.2367\n",
      "train_loss: 2.8811\n",
      "train_acc: 0.5964\n",
      "\n",
      "Epoch 19:\n",
      "val_loss: 1.2598\n",
      "val_acc: 0.1704\n",
      "train_loss: 2.9052\n",
      "train_acc: 0.5977\n",
      "\n",
      "Epoch 20:\n",
      "val_loss: 1.2416\n",
      "val_acc: 0.1834\n",
      "train_loss: 2.8565\n",
      "train_acc: 0.5561\n",
      "\n",
      "Epoch 21:\n",
      "val_loss: 1.2688\n",
      "val_acc: 0.1417\n",
      "train_loss: 2.8847\n",
      "train_acc: 0.5828\n",
      "\n",
      "Epoch 22:\n",
      "val_loss: 1.2670\n",
      "val_acc: 0.1743\n",
      "train_loss: 2.9434\n",
      "train_acc: 0.5727\n",
      "\n",
      "Epoch 23:\n",
      "val_loss: 1.2488\n",
      "val_acc: 0.2354\n",
      "train_loss: 2.8853\n",
      "train_acc: 0.5662\n",
      "\n",
      "Epoch 24:\n",
      "val_loss: 1.2576\n",
      "val_acc: 0.2276\n",
      "train_loss: 2.9103\n",
      "train_acc: 0.5980\n",
      "\n",
      "Epoch 25:\n",
      "val_loss: 1.2375\n",
      "val_acc: 0.2640\n",
      "train_loss: 2.8651\n",
      "train_acc: 0.5860\n",
      "\n",
      "Epoch 26:\n",
      "val_loss: 1.2371\n",
      "val_acc: 0.2432\n",
      "train_loss: 2.8474\n",
      "train_acc: 0.6218\n"
     ]
    },
    {
     "name": "stderr",
     "output_type": "stream",
     "text": [
      "Metric val_loss improved by 0.002 >= min_delta = 0.0001. New best score: 1.232\n"
     ]
    },
    {
     "name": "stdout",
     "output_type": "stream",
     "text": [
      "\n",
      "Epoch 27:\n",
      "val_loss: 1.2318\n",
      "val_acc: 0.3017\n",
      "train_loss: 2.8257\n",
      "train_acc: 0.5951\n",
      "\n",
      "Epoch 28:\n",
      "val_loss: 1.2668\n",
      "val_acc: 0.2484\n",
      "train_loss: 2.9233\n",
      "train_acc: 0.6367\n"
     ]
    },
    {
     "name": "stderr",
     "output_type": "stream",
     "text": [
      "Metric val_loss improved by 0.007 >= min_delta = 0.0001. New best score: 1.225\n"
     ]
    },
    {
     "name": "stdout",
     "output_type": "stream",
     "text": [
      "\n",
      "Epoch 29:\n",
      "val_loss: 1.2251\n",
      "val_acc: 0.2653\n",
      "train_loss: 2.8921\n",
      "train_acc: 0.6436\n",
      "\n",
      "Epoch 30:\n",
      "val_loss: 1.2252\n",
      "val_acc: 0.2926\n",
      "train_loss: 2.8312\n",
      "train_acc: 0.6296\n",
      "\n",
      "Epoch 31:\n",
      "val_loss: 1.2658\n",
      "val_acc: 0.2237\n",
      "train_loss: 2.8740\n",
      "train_acc: 0.6504\n",
      "\n",
      "Epoch 32:\n",
      "val_loss: 1.2370\n",
      "val_acc: 0.2991\n",
      "train_loss: 2.8619\n",
      "train_acc: 0.6527\n"
     ]
    },
    {
     "name": "stderr",
     "output_type": "stream",
     "text": [
      "Metric val_loss improved by 0.015 >= min_delta = 0.0001. New best score: 1.210\n"
     ]
    },
    {
     "name": "stdout",
     "output_type": "stream",
     "text": [
      "\n",
      "Epoch 33:\n",
      "val_loss: 1.2099\n",
      "val_acc: 0.3550\n",
      "train_loss: 2.8825\n",
      "train_acc: 0.5984\n",
      "\n",
      "Epoch 34:\n",
      "val_loss: 1.2160\n",
      "val_acc: 0.3251\n",
      "train_loss: 2.8963\n",
      "train_acc: 0.6582\n",
      "\n",
      "Epoch 35:\n",
      "val_loss: 1.2245\n",
      "val_acc: 0.3212\n",
      "train_loss: 2.8868\n",
      "train_acc: 0.6745\n"
     ]
    },
    {
     "name": "stderr",
     "output_type": "stream",
     "text": [
      "Metric val_loss improved by 0.003 >= min_delta = 0.0001. New best score: 1.207\n"
     ]
    },
    {
     "name": "stdout",
     "output_type": "stream",
     "text": [
      "\n",
      "Epoch 36:\n",
      "val_loss: 1.2074\n",
      "val_acc: 0.3628\n",
      "train_loss: 2.8243\n",
      "train_acc: 0.6361\n",
      "\n",
      "Epoch 37:\n",
      "val_loss: 1.2212\n",
      "val_acc: 0.3108\n",
      "train_loss: 2.8422\n",
      "train_acc: 0.6751\n"
     ]
    },
    {
     "name": "stderr",
     "output_type": "stream",
     "text": [
      "Metric val_loss improved by 0.005 >= min_delta = 0.0001. New best score: 1.202\n"
     ]
    },
    {
     "name": "stdout",
     "output_type": "stream",
     "text": [
      "\n",
      "Epoch 38:\n",
      "val_loss: 1.2024\n",
      "val_acc: 0.3316\n",
      "train_loss: 2.8577\n",
      "train_acc: 0.6699\n",
      "\n",
      "Epoch 39:\n",
      "val_loss: 1.2298\n",
      "val_acc: 0.2861\n",
      "train_loss: 2.9128\n",
      "train_acc: 0.6647\n",
      "\n",
      "Epoch 40:\n",
      "val_loss: 1.2180\n",
      "val_acc: 0.2952\n",
      "train_loss: 2.8446\n",
      "train_acc: 0.6397\n"
     ]
    },
    {
     "name": "stderr",
     "output_type": "stream",
     "text": [
      "Metric val_loss improved by 0.008 >= min_delta = 0.0001. New best score: 1.195\n"
     ]
    },
    {
     "name": "stdout",
     "output_type": "stream",
     "text": [
      "\n",
      "Epoch 41:\n",
      "val_loss: 1.1948\n",
      "val_acc: 0.3615\n",
      "train_loss: 2.8579\n",
      "train_acc: 0.6439\n",
      "\n",
      "Epoch 42:\n",
      "val_loss: 1.2158\n",
      "val_acc: 0.2952\n",
      "train_loss: 2.8767\n",
      "train_acc: 0.6689\n"
     ]
    },
    {
     "name": "stderr",
     "output_type": "stream",
     "text": [
      "Metric val_loss improved by 0.005 >= min_delta = 0.0001. New best score: 1.189\n"
     ]
    },
    {
     "name": "stdout",
     "output_type": "stream",
     "text": [
      "\n",
      "Epoch 43:\n",
      "val_loss: 1.1893\n",
      "val_acc: 0.3953\n",
      "train_loss: 2.8596\n",
      "train_acc: 0.6390\n",
      "\n",
      "Epoch 44:\n",
      "val_loss: 1.2360\n",
      "val_acc: 0.2861\n",
      "train_loss: 2.8174\n",
      "train_acc: 0.6459\n",
      "\n",
      "Epoch 45:\n",
      "val_loss: 1.2048\n",
      "val_acc: 0.3680\n",
      "train_loss: 2.8265\n",
      "train_acc: 0.6842\n",
      "\n",
      "Epoch 46:\n",
      "val_loss: 1.2053\n",
      "val_acc: 0.4109\n",
      "train_loss: 2.8644\n",
      "train_acc: 0.6693\n",
      "\n",
      "Epoch 47:\n",
      "val_loss: 1.1909\n",
      "val_acc: 0.4629\n",
      "train_loss: 2.8100\n",
      "train_acc: 0.6992\n"
     ]
    },
    {
     "name": "stderr",
     "output_type": "stream",
     "text": [
      "Metric val_loss improved by 0.010 >= min_delta = 0.0001. New best score: 1.180\n"
     ]
    },
    {
     "name": "stdout",
     "output_type": "stream",
     "text": [
      "\n",
      "Epoch 48:\n",
      "val_loss: 1.1797\n",
      "val_acc: 0.4434\n",
      "train_loss: 2.7905\n",
      "train_acc: 0.7236\n"
     ]
    },
    {
     "name": "stderr",
     "output_type": "stream",
     "text": [
      "Metric val_loss improved by 0.013 >= min_delta = 0.0001. New best score: 1.167\n"
     ]
    },
    {
     "name": "stdout",
     "output_type": "stream",
     "text": [
      "\n",
      "Epoch 49:\n",
      "val_loss: 1.1672\n",
      "val_acc: 0.4486\n",
      "train_loss: 2.8595\n",
      "train_acc: 0.7294\n",
      "\n",
      "Epoch 50:\n",
      "val_loss: 1.2020\n",
      "val_acc: 0.3953\n",
      "train_loss: 2.8355\n",
      "train_acc: 0.7272\n",
      "\n",
      "Epoch 51:\n",
      "val_loss: 1.2180\n",
      "val_acc: 0.3186\n",
      "train_loss: 2.8275\n",
      "train_acc: 0.6875\n",
      "\n",
      "Epoch 52:\n",
      "val_loss: 1.2163\n",
      "val_acc: 0.3368\n",
      "train_loss: 2.8560\n",
      "train_acc: 0.6728\n",
      "\n",
      "Epoch 53:\n",
      "val_loss: 1.1880\n",
      "val_acc: 0.4070\n",
      "train_loss: 2.8160\n",
      "train_acc: 0.6706\n",
      "\n",
      "Epoch 54:\n",
      "val_loss: 1.1926\n",
      "val_acc: 0.3927\n",
      "train_loss: 2.8309\n",
      "train_acc: 0.6878\n",
      "\n",
      "Epoch 55:\n",
      "val_loss: 1.2032\n",
      "val_acc: 0.3628\n",
      "train_loss: 2.8245\n",
      "train_acc: 0.6784\n",
      "\n",
      "Epoch 56:\n",
      "val_loss: 1.1952\n",
      "val_acc: 0.3732\n",
      "train_loss: 2.8462\n",
      "train_acc: 0.6820\n",
      "\n",
      "Epoch 57:\n",
      "val_loss: 1.2106\n",
      "val_acc: 0.3407\n",
      "train_loss: 2.8598\n",
      "train_acc: 0.6624\n",
      "\n",
      "Epoch 58:\n",
      "val_loss: 1.2086\n",
      "val_acc: 0.3459\n",
      "train_loss: 2.8575\n",
      "train_acc: 0.7015\n"
     ]
    },
    {
     "name": "stderr",
     "output_type": "stream",
     "text": [
      "Monitored metric val_loss did not improve in the last 10 records. Best score: 1.167. Signaling Trainer to stop.\n"
     ]
    },
    {
     "name": "stdout",
     "output_type": "stream",
     "text": [
      "\n",
      "Epoch 59:\n",
      "val_loss: 1.1939\n",
      "val_acc: 0.3914\n",
      "train_loss: 2.8376\n",
      "train_acc: 0.6380\n",
      "\n",
      "Classification Report:\n",
      "              precision    recall  f1-score   support\n",
      "\n",
      "           0       0.98      0.54      0.70       407\n",
      "           1       0.08      0.81      0.15        21\n",
      "\n",
      "    accuracy                           0.55       428\n",
      "   macro avg       0.53      0.67      0.42       428\n",
      "weighted avg       0.94      0.55      0.67       428\n",
      "\n"
     ]
    },
    {
     "data": {
      "image/png": "[encoded data removed]",
      "text/plain": [
       "<Figure size 800x600 with 2 Axes>"
      ]
     },
     "metadata": {},
     "output_type": "display_data"
    }
   ],
   "source": [
    "networks_data = {}\n",
    "data_module, input_size, scaler = dr.prepare_data_module(driver_df_2_train, 'NB_Claim', 18)\n",
    "networks_data[\"AMT\"] = {\n",
    "    'model': dr.create_subsim2(input_size, ),\n",
    "    'data_module': data_module\n",
    "}\n",
    "#trainer = pl.Trainer(max_epochs=100)\n",
    "for name, data in networks_data.items():\n",
    "    print(f\"Training {name}\")\n",
    "    model = dr.train_model_with_early_stopping(\n",
    "    model=data['model'],\n",
    "    data_module=data['data_module'],\n",
    "    max_epochs=100,\n",
    "    early_stopping_patience=10,\n",
    "    monitor='val_loss',\n",
    "    mode='min'\n",
    "    )\n",
    "    dr.evaluate_model(model, data_module, split='test')"
   ]
  },
  {
   "cell_type": "code",
   "execution_count": 4,
   "metadata": {},
   "outputs": [
    {
     "name": "stdout",
     "output_type": "stream",
     "text": [
      "Successfully loaded model from models/nn_1.ckpt\n",
      "Successfully loaded model from models/nn_2.ckpt\n",
      "Successfully loaded model from models/nn_3.ckpt\n"
     ]
    }
   ],
   "source": [
    "simu_model_1 = dr.load_model_from_checkpoint(\"models/nn_1.ckpt\",'subsim1')\n",
    "simu_model_2 = dr.load_model_from_checkpoint(\"models/nn_2.ckpt\",'subsim2')\n",
    "simu_model_3 = dr.load_model_from_checkpoint(\"models/nn_3.ckpt\",'subsim3')"
   ]
  },
  {
   "cell_type": "code",
   "execution_count": 143,
   "metadata": {},
   "outputs": [],
   "source": [
    "driver_df_3 = driver_df.copy()\n",
    "driver_df_3 = driver_df_3[driver_df_3['NB_Claim'] >= 2]\n",
    "driver_df_3['NB_Claim'] = driver_df_3['NB_Claim'].map(lambda x: 1 if x > 2 else 0)\n",
    "\n",
    "driver_df_3_train = driver_df_3\n",
    "driver_df_3_train = driver_df_3_train.drop(columns=['AMT_Claim'])"
   ]
  },
  {
   "cell_type": "code",
   "execution_count": 146,
   "metadata": {},
   "outputs": [
    {
     "name": "stderr",
     "output_type": "stream",
     "text": [
      "GPU available: False, used: False\n",
      "TPU available: False, using: 0 TPU cores\n",
      "HPU available: False, using: 0 HPUs\n",
      "\n",
      "  | Name           | Type           | Params | Mode \n",
      "----------------------------------------------------------\n",
      "0 | train_accuracy | BinaryAccuracy | 0      | train\n",
      "1 | val_accuracy   | BinaryAccuracy | 0      | train\n",
      "2 | network        | Sequential     | 6.8 K  | train\n",
      "----------------------------------------------------------\n",
      "6.8 K     Trainable params\n",
      "0         Non-trainable params\n",
      "6.8 K     Total params\n",
      "0.027     Total estimated model params size (MB)\n",
      "10        Modules in train mode\n",
      "0         Modules in eval mode\n"
     ]
    },
    {
     "name": "stdout",
     "output_type": "stream",
     "text": [
      "Class distribution:\n",
      "Class 0: 200 samples (94.79%)\n",
      "Class 1: 11 samples (5.21%)\n",
      "Training subsim3\n"
     ]
    },
    {
     "name": "stderr",
     "output_type": "stream",
     "text": [
      "/Users/qinyanghe/opt/anaconda3/envs/MLenvironment/lib/python3.11/site-packages/pytorch_lightning/trainer/connectors/data_connector.py:420: Consider setting `persistent_workers=True` in 'val_dataloader' to speed up the dataloader worker initialization.\n",
      "/Users/qinyanghe/opt/anaconda3/envs/MLenvironment/lib/python3.11/site-packages/pytorch_lightning/trainer/connectors/data_connector.py:420: Consider setting `persistent_workers=True` in 'train_dataloader' to speed up the dataloader worker initialization.\n",
      "Metric val_loss improved. New best score: 1.139\n"
     ]
    },
    {
     "name": "stdout",
     "output_type": "stream",
     "text": [
      "\n",
      "Epoch 0:\n",
      "val_loss: 1.1387\n",
      "val_acc: 0.0526\n",
      "\n",
      "Epoch 1:\n",
      "val_loss: 1.3510\n",
      "val_acc: 0.0789\n",
      "train_loss: 3.4912\n",
      "train_acc: 0.4768\n",
      "\n",
      "Epoch 2:\n",
      "val_loss: 1.5726\n",
      "val_acc: 0.1053\n",
      "train_loss: 1.6562\n",
      "train_acc: 0.5166\n",
      "\n",
      "Epoch 3:\n",
      "val_loss: 1.3276\n",
      "val_acc: 0.3158\n",
      "train_loss: 0.9921\n",
      "train_acc: 0.5298\n"
     ]
    },
    {
     "name": "stderr",
     "output_type": "stream",
     "text": [
      "Metric val_loss improved by 0.220 >= min_delta = 0.0001. New best score: 0.919\n"
     ]
    },
    {
     "name": "stdout",
     "output_type": "stream",
     "text": [
      "\n",
      "Epoch 4:\n",
      "val_loss: 0.9186\n",
      "val_acc: 0.5526\n",
      "train_loss: 0.7037\n",
      "train_acc: 0.6159\n"
     ]
    },
    {
     "name": "stderr",
     "output_type": "stream",
     "text": [
      "Metric val_loss improved by 0.205 >= min_delta = 0.0001. New best score: 0.713\n"
     ]
    },
    {
     "name": "stdout",
     "output_type": "stream",
     "text": [
      "\n",
      "Epoch 5:\n",
      "val_loss: 0.7132\n",
      "val_acc: 0.6053\n",
      "train_loss: 0.5542\n",
      "train_acc: 0.7351\n"
     ]
    },
    {
     "name": "stderr",
     "output_type": "stream",
     "text": [
      "Metric val_loss improved by 0.165 >= min_delta = 0.0001. New best score: 0.548\n"
     ]
    },
    {
     "name": "stdout",
     "output_type": "stream",
     "text": [
      "\n",
      "Epoch 6:\n",
      "val_loss: 0.5478\n",
      "val_acc: 0.7895\n",
      "train_loss: 0.3493\n",
      "train_acc: 0.8742\n"
     ]
    },
    {
     "name": "stderr",
     "output_type": "stream",
     "text": [
      "Metric val_loss improved by 0.237 >= min_delta = 0.0001. New best score: 0.311\n"
     ]
    },
    {
     "name": "stdout",
     "output_type": "stream",
     "text": [
      "\n",
      "Epoch 7:\n",
      "val_loss: 0.3106\n",
      "val_acc: 0.8684\n",
      "train_loss: 0.3013\n",
      "train_acc: 0.8675\n"
     ]
    },
    {
     "name": "stderr",
     "output_type": "stream",
     "text": [
      "Metric val_loss improved by 0.054 >= min_delta = 0.0001. New best score: 0.256\n"
     ]
    },
    {
     "name": "stdout",
     "output_type": "stream",
     "text": [
      "\n",
      "Epoch 8:\n",
      "val_loss: 0.2562\n",
      "val_acc: 0.8947\n",
      "train_loss: 0.2039\n",
      "train_acc: 0.9470\n"
     ]
    },
    {
     "name": "stderr",
     "output_type": "stream",
     "text": [
      "Metric val_loss improved by 0.017 >= min_delta = 0.0001. New best score: 0.239\n"
     ]
    },
    {
     "name": "stdout",
     "output_type": "stream",
     "text": [
      "\n",
      "Epoch 9:\n",
      "val_loss: 0.2392\n",
      "val_acc: 0.9211\n",
      "train_loss: 0.0994\n",
      "train_acc: 0.9934\n"
     ]
    },
    {
     "name": "stderr",
     "output_type": "stream",
     "text": [
      "Metric val_loss improved by 0.085 >= min_delta = 0.0001. New best score: 0.154\n"
     ]
    },
    {
     "name": "stdout",
     "output_type": "stream",
     "text": [
      "\n",
      "Epoch 10:\n",
      "val_loss: 0.1538\n",
      "val_acc: 0.9474\n",
      "train_loss: 0.0781\n",
      "train_acc: 0.9868\n"
     ]
    },
    {
     "name": "stderr",
     "output_type": "stream",
     "text": [
      "Metric val_loss improved by 0.050 >= min_delta = 0.0001. New best score: 0.104\n"
     ]
    },
    {
     "name": "stdout",
     "output_type": "stream",
     "text": [
      "\n",
      "Epoch 11:\n",
      "val_loss: 0.1041\n",
      "val_acc: 0.9737\n",
      "train_loss: 0.0680\n",
      "train_acc: 0.9868\n"
     ]
    },
    {
     "name": "stderr",
     "output_type": "stream",
     "text": [
      "Metric val_loss improved by 0.019 >= min_delta = 0.0001. New best score: 0.085\n"
     ]
    },
    {
     "name": "stdout",
     "output_type": "stream",
     "text": [
      "\n",
      "Epoch 12:\n",
      "val_loss: 0.0854\n",
      "val_acc: 0.9737\n",
      "train_loss: 0.0348\n",
      "train_acc: 1.0000\n"
     ]
    },
    {
     "name": "stderr",
     "output_type": "stream",
     "text": [
      "Metric val_loss improved by 0.002 >= min_delta = 0.0001. New best score: 0.083\n"
     ]
    },
    {
     "name": "stdout",
     "output_type": "stream",
     "text": [
      "\n",
      "Epoch 13:\n",
      "val_loss: 0.0831\n",
      "val_acc: 0.9737\n",
      "train_loss: 0.0286\n",
      "train_acc: 1.0000\n",
      "\n",
      "Epoch 14:\n",
      "val_loss: 0.0846\n",
      "val_acc: 0.9737\n",
      "train_loss: 0.0167\n",
      "train_acc: 1.0000\n"
     ]
    },
    {
     "name": "stderr",
     "output_type": "stream",
     "text": [
      "Metric val_loss improved by 0.015 >= min_delta = 0.0001. New best score: 0.068\n"
     ]
    },
    {
     "name": "stdout",
     "output_type": "stream",
     "text": [
      "\n",
      "Epoch 15:\n",
      "val_loss: 0.0677\n",
      "val_acc: 0.9737\n",
      "train_loss: 0.0110\n",
      "train_acc: 1.0000\n"
     ]
    },
    {
     "name": "stderr",
     "output_type": "stream",
     "text": [
      "Metric val_loss improved by 0.012 >= min_delta = 0.0001. New best score: 0.055\n"
     ]
    },
    {
     "name": "stdout",
     "output_type": "stream",
     "text": [
      "\n",
      "Epoch 16:\n",
      "val_loss: 0.0552\n",
      "val_acc: 0.9737\n",
      "train_loss: 0.0163\n",
      "train_acc: 1.0000\n"
     ]
    },
    {
     "name": "stderr",
     "output_type": "stream",
     "text": [
      "Metric val_loss improved by 0.020 >= min_delta = 0.0001. New best score: 0.035\n"
     ]
    },
    {
     "name": "stdout",
     "output_type": "stream",
     "text": [
      "\n",
      "Epoch 17:\n",
      "val_loss: 0.0352\n",
      "val_acc: 0.9737\n",
      "train_loss: 0.0113\n",
      "train_acc: 1.0000\n",
      "\n",
      "Epoch 18:\n",
      "val_loss: 0.0420\n",
      "val_acc: 0.9737\n",
      "train_loss: 0.0298\n",
      "train_acc: 0.9934\n",
      "\n",
      "Epoch 19:\n",
      "val_loss: 0.0421\n",
      "val_acc: 0.9737\n",
      "train_loss: 0.0085\n",
      "train_acc: 1.0000\n"
     ]
    },
    {
     "name": "stderr",
     "output_type": "stream",
     "text": [
      "Metric val_loss improved by 0.009 >= min_delta = 0.0001. New best score: 0.026\n"
     ]
    },
    {
     "name": "stdout",
     "output_type": "stream",
     "text": [
      "\n",
      "Epoch 20:\n",
      "val_loss: 0.0262\n",
      "val_acc: 1.0000\n",
      "train_loss: 0.0346\n",
      "train_acc: 0.9934\n",
      "\n",
      "Epoch 21:\n",
      "val_loss: 0.0292\n",
      "val_acc: 0.9737\n",
      "train_loss: 0.0057\n",
      "train_acc: 1.0000\n",
      "\n",
      "Epoch 22:\n",
      "val_loss: 0.0516\n",
      "val_acc: 0.9737\n",
      "train_loss: 0.0132\n",
      "train_acc: 1.0000\n",
      "\n",
      "Epoch 23:\n",
      "val_loss: 0.0530\n",
      "val_acc: 0.9737\n",
      "train_loss: 0.0053\n",
      "train_acc: 1.0000\n"
     ]
    },
    {
     "name": "stderr",
     "output_type": "stream",
     "text": [
      "Metric val_loss improved by 0.010 >= min_delta = 0.0001. New best score: 0.017\n"
     ]
    },
    {
     "name": "stdout",
     "output_type": "stream",
     "text": [
      "\n",
      "Epoch 24:\n",
      "val_loss: 0.0167\n",
      "val_acc: 1.0000\n",
      "train_loss: 0.0058\n",
      "train_acc: 1.0000\n"
     ]
    },
    {
     "name": "stderr",
     "output_type": "stream",
     "text": [
      "Metric val_loss improved by 0.005 >= min_delta = 0.0001. New best score: 0.012\n"
     ]
    },
    {
     "name": "stdout",
     "output_type": "stream",
     "text": [
      "\n",
      "Epoch 25:\n",
      "val_loss: 0.0121\n",
      "val_acc: 1.0000\n",
      "train_loss: 0.0316\n",
      "train_acc: 0.9934\n",
      "\n",
      "Epoch 26:\n",
      "val_loss: 0.0135\n",
      "val_acc: 1.0000\n",
      "train_loss: 0.0050\n",
      "train_acc: 1.0000\n",
      "\n",
      "Epoch 27:\n",
      "val_loss: 0.0133\n",
      "val_acc: 1.0000\n",
      "train_loss: 0.0034\n",
      "train_acc: 1.0000\n"
     ]
    },
    {
     "name": "stderr",
     "output_type": "stream",
     "text": [
      "Metric val_loss improved by 0.004 >= min_delta = 0.0001. New best score: 0.008\n"
     ]
    },
    {
     "name": "stdout",
     "output_type": "stream",
     "text": [
      "\n",
      "Epoch 28:\n",
      "val_loss: 0.0080\n",
      "val_acc: 1.0000\n",
      "train_loss: 0.0070\n",
      "train_acc: 1.0000\n"
     ]
    },
    {
     "name": "stderr",
     "output_type": "stream",
     "text": [
      "Metric val_loss improved by 0.002 >= min_delta = 0.0001. New best score: 0.006\n"
     ]
    },
    {
     "name": "stdout",
     "output_type": "stream",
     "text": [
      "\n",
      "Epoch 29:\n",
      "val_loss: 0.0063\n",
      "val_acc: 1.0000\n",
      "train_loss: 0.0067\n",
      "train_acc: 1.0000\n",
      "\n",
      "Epoch 30:\n",
      "val_loss: 0.0067\n",
      "val_acc: 1.0000\n",
      "train_loss: 0.0074\n",
      "train_acc: 1.0000\n",
      "\n",
      "Epoch 31:\n",
      "val_loss: 0.0065\n",
      "val_acc: 1.0000\n",
      "train_loss: 0.0023\n",
      "train_acc: 1.0000\n",
      "\n",
      "Epoch 32:\n",
      "val_loss: 0.0066\n",
      "val_acc: 1.0000\n",
      "train_loss: 0.0033\n",
      "train_acc: 1.0000\n"
     ]
    },
    {
     "name": "stderr",
     "output_type": "stream",
     "text": [
      "Metric val_loss improved by 0.001 >= min_delta = 0.0001. New best score: 0.005\n"
     ]
    },
    {
     "name": "stdout",
     "output_type": "stream",
     "text": [
      "\n",
      "Epoch 33:\n",
      "val_loss: 0.0048\n",
      "val_acc: 1.0000\n",
      "train_loss: 0.0019\n",
      "train_acc: 1.0000\n"
     ]
    },
    {
     "name": "stderr",
     "output_type": "stream",
     "text": [
      "Metric val_loss improved by 0.000 >= min_delta = 0.0001. New best score: 0.005\n"
     ]
    },
    {
     "name": "stdout",
     "output_type": "stream",
     "text": [
      "\n",
      "Epoch 34:\n",
      "val_loss: 0.0047\n",
      "val_acc: 1.0000\n",
      "train_loss: 0.0055\n",
      "train_acc: 1.0000\n",
      "\n",
      "Epoch 35:\n",
      "val_loss: 0.0052\n",
      "val_acc: 1.0000\n",
      "train_loss: 0.0021\n",
      "train_acc: 1.0000\n",
      "\n",
      "Epoch 36:\n",
      "val_loss: 0.0051\n",
      "val_acc: 1.0000\n",
      "train_loss: 0.0016\n",
      "train_acc: 1.0000\n",
      "\n",
      "Epoch 37:\n",
      "val_loss: 0.0050\n",
      "val_acc: 1.0000\n",
      "train_loss: 0.0012\n",
      "train_acc: 1.0000\n",
      "\n",
      "Epoch 38:\n",
      "val_loss: 0.0048\n",
      "val_acc: 1.0000\n",
      "train_loss: 0.0015\n",
      "train_acc: 1.0000\n"
     ]
    },
    {
     "name": "stderr",
     "output_type": "stream",
     "text": [
      "Metric val_loss improved by 0.000 >= min_delta = 0.0001. New best score: 0.004\n"
     ]
    },
    {
     "name": "stdout",
     "output_type": "stream",
     "text": [
      "\n",
      "Epoch 39:\n",
      "val_loss: 0.0045\n",
      "val_acc: 1.0000\n",
      "train_loss: 0.0017\n",
      "train_acc: 1.0000\n",
      "\n",
      "Epoch 40:\n",
      "val_loss: 0.0045\n",
      "val_acc: 1.0000\n",
      "train_loss: 0.0009\n",
      "train_acc: 1.0000\n"
     ]
    },
    {
     "name": "stderr",
     "output_type": "stream",
     "text": [
      "Metric val_loss improved by 0.001 >= min_delta = 0.0001. New best score: 0.004\n"
     ]
    },
    {
     "name": "stdout",
     "output_type": "stream",
     "text": [
      "\n",
      "Epoch 41:\n",
      "val_loss: 0.0040\n",
      "val_acc: 1.0000\n",
      "train_loss: 0.0013\n",
      "train_acc: 1.0000\n"
     ]
    },
    {
     "name": "stderr",
     "output_type": "stream",
     "text": [
      "Metric val_loss improved by 0.001 >= min_delta = 0.0001. New best score: 0.003\n"
     ]
    },
    {
     "name": "stdout",
     "output_type": "stream",
     "text": [
      "\n",
      "Epoch 42:\n",
      "val_loss: 0.0034\n",
      "val_acc: 1.0000\n",
      "train_loss: 0.0014\n",
      "train_acc: 1.0000\n"
     ]
    },
    {
     "name": "stderr",
     "output_type": "stream",
     "text": [
      "Metric val_loss improved by 0.000 >= min_delta = 0.0001. New best score: 0.003\n"
     ]
    },
    {
     "name": "stdout",
     "output_type": "stream",
     "text": [
      "\n",
      "Epoch 43:\n",
      "val_loss: 0.0033\n",
      "val_acc: 1.0000\n",
      "train_loss: 0.0020\n",
      "train_acc: 1.0000\n",
      "\n",
      "Epoch 44:\n",
      "val_loss: 0.0032\n",
      "val_acc: 1.0000\n",
      "train_loss: 0.0017\n",
      "train_acc: 1.0000\n"
     ]
    },
    {
     "name": "stderr",
     "output_type": "stream",
     "text": [
      "Metric val_loss improved by 0.000 >= min_delta = 0.0001. New best score: 0.003\n"
     ]
    },
    {
     "name": "stdout",
     "output_type": "stream",
     "text": [
      "\n",
      "Epoch 45:\n",
      "val_loss: 0.0029\n",
      "val_acc: 1.0000\n",
      "train_loss: 0.0010\n",
      "train_acc: 1.0000\n"
     ]
    },
    {
     "name": "stderr",
     "output_type": "stream",
     "text": [
      "Metric val_loss improved by 0.001 >= min_delta = 0.0001. New best score: 0.002\n"
     ]
    },
    {
     "name": "stdout",
     "output_type": "stream",
     "text": [
      "\n",
      "Epoch 46:\n",
      "val_loss: 0.0022\n",
      "val_acc: 1.0000\n",
      "train_loss: 0.0011\n",
      "train_acc: 1.0000\n"
     ]
    },
    {
     "name": "stderr",
     "output_type": "stream",
     "text": [
      "Metric val_loss improved by 0.000 >= min_delta = 0.0001. New best score: 0.002\n"
     ]
    },
    {
     "name": "stdout",
     "output_type": "stream",
     "text": [
      "\n",
      "Epoch 47:\n",
      "val_loss: 0.0019\n",
      "val_acc: 1.0000\n",
      "train_loss: 0.0073\n",
      "train_acc: 0.9934\n",
      "\n",
      "Epoch 48:\n",
      "val_loss: 0.0021\n",
      "val_acc: 1.0000\n",
      "train_loss: 0.0057\n",
      "train_acc: 1.0000\n",
      "\n",
      "Epoch 49:\n",
      "val_loss: 0.0021\n",
      "val_acc: 1.0000\n",
      "train_loss: 0.0017\n",
      "train_acc: 1.0000\n",
      "\n",
      "Epoch 50:\n",
      "val_loss: 0.0019\n",
      "val_acc: 1.0000\n",
      "train_loss: 0.0021\n",
      "train_acc: 1.0000\n",
      "\n",
      "Epoch 51:\n",
      "val_loss: 0.0019\n",
      "val_acc: 1.0000\n",
      "train_loss: 0.0005\n",
      "train_acc: 1.0000\n"
     ]
    },
    {
     "name": "stderr",
     "output_type": "stream",
     "text": [
      "Metric val_loss improved by 0.000 >= min_delta = 0.0001. New best score: 0.002\n"
     ]
    },
    {
     "name": "stdout",
     "output_type": "stream",
     "text": [
      "\n",
      "Epoch 52:\n",
      "val_loss: 0.0016\n",
      "val_acc: 1.0000\n",
      "train_loss: 0.0010\n",
      "train_acc: 1.0000\n",
      "\n",
      "Epoch 53:\n",
      "val_loss: 0.0015\n",
      "val_acc: 1.0000\n",
      "train_loss: 0.0022\n",
      "train_acc: 1.0000\n",
      "\n",
      "Epoch 54:\n",
      "val_loss: 0.0016\n",
      "val_acc: 1.0000\n",
      "train_loss: 0.0008\n",
      "train_acc: 1.0000\n",
      "\n",
      "Epoch 55:\n",
      "val_loss: 0.0016\n",
      "val_acc: 1.0000\n",
      "train_loss: 0.0007\n",
      "train_acc: 1.0000\n",
      "\n",
      "Epoch 56:\n",
      "val_loss: 0.0017\n",
      "val_acc: 1.0000\n",
      "train_loss: 0.0005\n",
      "train_acc: 1.0000\n",
      "\n",
      "Epoch 57:\n",
      "val_loss: 0.0018\n",
      "val_acc: 1.0000\n",
      "train_loss: 0.0010\n",
      "train_acc: 1.0000\n",
      "\n",
      "Epoch 58:\n",
      "val_loss: 0.0018\n",
      "val_acc: 1.0000\n",
      "train_loss: 0.0005\n",
      "train_acc: 1.0000\n",
      "\n",
      "Epoch 59:\n",
      "val_loss: 0.0018\n",
      "val_acc: 1.0000\n",
      "train_loss: 0.0004\n",
      "train_acc: 1.0000\n",
      "\n",
      "Epoch 60:\n",
      "val_loss: 0.0018\n",
      "val_acc: 1.0000\n",
      "train_loss: 0.0004\n",
      "train_acc: 1.0000\n",
      "\n",
      "Epoch 61:\n",
      "val_loss: 0.0018\n",
      "val_acc: 1.0000\n",
      "train_loss: 0.0007\n",
      "train_acc: 1.0000\n"
     ]
    },
    {
     "name": "stderr",
     "output_type": "stream",
     "text": [
      "Monitored metric val_loss did not improve in the last 10 records. Best score: 0.002. Signaling Trainer to stop.\n"
     ]
    },
    {
     "name": "stdout",
     "output_type": "stream",
     "text": [
      "\n",
      "Epoch 62:\n",
      "val_loss: 0.0017\n",
      "val_acc: 1.0000\n",
      "train_loss: 0.0007\n",
      "train_acc: 1.0000\n",
      "\n",
      "Classification Report:\n",
      "              precision    recall  f1-score   support\n",
      "\n",
      "           0       1.00      1.00      1.00        21\n",
      "           1       1.00      1.00      1.00         1\n",
      "\n",
      "    accuracy                           1.00        22\n",
      "   macro avg       1.00      1.00      1.00        22\n",
      "weighted avg       1.00      1.00      1.00        22\n",
      "\n"
     ]
    },
    {
     "data": {
      "image/png": "[encoded data removed]",
      "text/plain": [
       "<Figure size 800x600 with 2 Axes>"
      ]
     },
     "metadata": {},
     "output_type": "display_data"
    }
   ],
   "source": [
    "networks_data = {}\n",
    "# ('subsim2', 18), ('subsim3', 16)\n",
    "for name, batch_size in [('subsim3', 16)]:\n",
    "        data_module, input_size = prepare_data_module(driver_df_3_train, 'NB_Claim', batch_size, oversample_minority=True)\n",
    "        networks_data[name] = {\n",
    "            'model': globals()[f'create_{name}'](input_size),\n",
    "            'data_module': data_module\n",
    "        }\n",
    "#trainer = pl.Trainer(max_epochs=100)\n",
    "for name, data in networks_data.items():\n",
    "    print(f\"Training {name}\")\n",
    "    model = train_model_with_early_stopping(\n",
    "    model=data['model'],\n",
    "    data_module=data['data_module'],\n",
    "    max_epochs=100,\n",
    "    early_stopping_patience=10,\n",
    "    monitor='val_loss',\n",
    "    mode='min'\n",
    "    )\n",
    "    evaluate_model(model, data_module, split='test')"
   ]
  },
  {
   "cell_type": "code",
   "execution_count": 12,
   "metadata": {},
   "outputs": [
    {
     "name": "stdout",
     "output_type": "stream",
     "text": [
      "Target variable statistics:\n",
      "Mean: 3056.7193\n",
      "Std: 5009.3585\n",
      "Min: 0.0000\n",
      "Max: 104074.8867\n",
      "Training AMT\n"
     ]
    },
    {
     "name": "stderr",
     "output_type": "stream",
     "text": [
      "GPU available: False, used: False\n",
      "TPU available: False, using: 0 TPU cores\n",
      "HPU available: False, using: 0 HPUs\n",
      "/Users/qinyanghe/opt/anaconda3/envs/MLenvironment/lib/python3.11/site-packages/pytorch_lightning/trainer/connectors/logger_connector/logger_connector.py:76: Starting from v1.9.0, `tensorboardX` has been removed as a dependency of the `pytorch_lightning` package, due to potential conflicts with other packages in the ML ecosystem. For this reason, `logger=True` will use `CSVLogger` as the default logger, unless the `tensorboard` or `tensorboardX` packages are found. Please `pip install lightning[extra]` or one of them to enable TensorBoard support by default\n",
      "\n",
      "  | Name        | Type                                 | Params | Mode \n",
      "-----------------------------------------------------------------------------\n",
      "0 | train_mse   | MeanSquaredError                     | 0      | train\n",
      "1 | val_mse     | MeanSquaredError                     | 0      | train\n",
      "2 | train_r2    | R2Score                              | 0      | train\n",
      "3 | val_r2      | R2Score                              | 0      | train\n",
      "4 | train_smape | SymmetricMeanAbsolutePercentageError | 0      | train\n",
      "5 | val_smape   | SymmetricMeanAbsolutePercentageError | 0      | train\n",
      "6 | smape_loss  | SMAPELoss                            | 0      | train\n",
      "7 | network     | Sequential                           | 59.6 K | train\n",
      "-----------------------------------------------------------------------------\n",
      "59.6 K    Trainable params\n",
      "0         Non-trainable params\n",
      "59.6 K    Total params\n",
      "0.239     Total estimated model params size (MB)\n",
      "27        Modules in train mode\n",
      "0         Modules in eval mode\n",
      "/Users/qinyanghe/opt/anaconda3/envs/MLenvironment/lib/python3.11/site-packages/pytorch_lightning/trainer/connectors/data_connector.py:420: Consider setting `persistent_workers=True` in 'val_dataloader' to speed up the dataloader worker initialization.\n",
      "/Users/qinyanghe/opt/anaconda3/envs/MLenvironment/lib/python3.11/site-packages/pytorch_lightning/trainer/connectors/data_connector.py:420: Consider setting `persistent_workers=True` in 'train_dataloader' to speed up the dataloader worker initialization.\n",
      "Metric val_loss improved. New best score: 89.033\n"
     ]
    },
    {
     "name": "stdout",
     "output_type": "stream",
     "text": [
      "\n",
      "Epoch 0:\n",
      "val_loss: 89.0334\n",
      "val_mse: 16489327.0000\n",
      "val_r2: 0.0089\n",
      "val_smape: 89.2239\n"
     ]
    },
    {
     "name": "stderr",
     "output_type": "stream",
     "text": [
      "Metric val_loss improved by 0.346 >= min_delta = 0.0001. New best score: 88.688\n"
     ]
    },
    {
     "name": "stdout",
     "output_type": "stream",
     "text": [
      "\n",
      "Epoch 1:\n",
      "val_loss: 88.6879\n",
      "val_mse: 16025484.0000\n",
      "val_r2: 0.0367\n",
      "val_smape: 88.8277\n",
      "train_loss: 103.6892\n",
      "train_mse: 29905190.0000\n",
      "train_r2: -0.0580\n",
      "train_smape: 103.6892\n"
     ]
    },
    {
     "name": "stderr",
     "output_type": "stream",
     "text": [
      "Metric val_loss improved by 1.102 >= min_delta = 0.0001. New best score: 87.585\n"
     ]
    },
    {
     "name": "stdout",
     "output_type": "stream",
     "text": [
      "\n",
      "Epoch 2:\n",
      "val_loss: 87.5855\n",
      "val_mse: 16554779.0000\n",
      "val_r2: 0.0049\n",
      "val_smape: 87.7655\n",
      "train_loss: 89.7800\n",
      "train_mse: 27657068.0000\n",
      "train_r2: 0.0216\n",
      "train_smape: 89.7799\n"
     ]
    },
    {
     "name": "stderr",
     "output_type": "stream",
     "text": [
      "Metric val_loss improved by 0.332 >= min_delta = 0.0001. New best score: 87.253\n"
     ]
    },
    {
     "name": "stdout",
     "output_type": "stream",
     "text": [
      "\n",
      "Epoch 3:\n",
      "val_loss: 87.2530\n",
      "val_mse: 16253194.0000\n",
      "val_r2: 0.0231\n",
      "val_smape: 87.4342\n",
      "train_loss: 88.5887\n",
      "train_mse: 26938948.0000\n",
      "train_r2: 0.0470\n",
      "train_smape: 88.5888\n"
     ]
    },
    {
     "name": "stderr",
     "output_type": "stream",
     "text": [
      "Metric val_loss improved by 0.372 >= min_delta = 0.0001. New best score: 86.881\n"
     ]
    },
    {
     "name": "stdout",
     "output_type": "stream",
     "text": [
      "\n",
      "Epoch 4:\n",
      "val_loss: 86.8811\n",
      "val_mse: 16415973.0000\n",
      "val_r2: 0.0133\n",
      "val_smape: 87.0791\n",
      "train_loss: 87.2241\n",
      "train_mse: 26972582.0000\n",
      "train_r2: 0.0458\n",
      "train_smape: 87.2241\n"
     ]
    },
    {
     "name": "stderr",
     "output_type": "stream",
     "text": [
      "Metric val_loss improved by 0.188 >= min_delta = 0.0001. New best score: 86.693\n"
     ]
    },
    {
     "name": "stdout",
     "output_type": "stream",
     "text": [
      "\n",
      "Epoch 5:\n",
      "val_loss: 86.6932\n",
      "val_mse: 16049665.0000\n",
      "val_r2: 0.0353\n",
      "val_smape: 86.9072\n",
      "train_loss: 86.7130\n",
      "train_mse: 26728982.0000\n",
      "train_r2: 0.0544\n",
      "train_smape: 86.7131\n",
      "\n",
      "Epoch 6:\n",
      "val_loss: 89.9767\n",
      "val_mse: 16122773.0000\n",
      "val_r2: 0.0309\n",
      "val_smape: 90.0952\n",
      "train_loss: 85.3890\n",
      "train_mse: 26670788.0000\n",
      "train_r2: 0.0565\n",
      "train_smape: 85.3890\n",
      "\n",
      "Epoch 7:\n",
      "val_loss: 87.2563\n",
      "val_mse: 15432633.0000\n",
      "val_r2: 0.0724\n",
      "val_smape: 87.3928\n",
      "train_loss: 84.5700\n",
      "train_mse: 26330266.0000\n",
      "train_r2: 0.0685\n",
      "train_smape: 84.5701\n"
     ]
    },
    {
     "name": "stderr",
     "output_type": "stream",
     "text": [
      "Metric val_loss improved by 0.663 >= min_delta = 0.0001. New best score: 86.031\n"
     ]
    },
    {
     "name": "stdout",
     "output_type": "stream",
     "text": [
      "\n",
      "Epoch 8:\n",
      "val_loss: 86.0305\n",
      "val_mse: 15667432.0000\n",
      "val_r2: 0.0583\n",
      "val_smape: 86.1777\n",
      "train_loss: 83.7804\n",
      "train_mse: 26096052.0000\n",
      "train_r2: 0.0768\n",
      "train_smape: 83.7804\n"
     ]
    },
    {
     "name": "stderr",
     "output_type": "stream",
     "text": [
      "Metric val_loss improved by 0.598 >= min_delta = 0.0001. New best score: 85.433\n"
     ]
    },
    {
     "name": "stdout",
     "output_type": "stream",
     "text": [
      "\n",
      "Epoch 9:\n",
      "val_loss: 85.4329\n",
      "val_mse: 15529920.0000\n",
      "val_r2: 0.0665\n",
      "val_smape: 85.5969\n",
      "train_loss: 82.4087\n",
      "train_mse: 26057862.0000\n",
      "train_r2: 0.0782\n",
      "train_smape: 82.4087\n",
      "\n",
      "Epoch 10:\n",
      "val_loss: 87.6988\n",
      "val_mse: 15389965.0000\n",
      "val_r2: 0.0749\n",
      "val_smape: 87.7559\n",
      "train_loss: 81.8132\n",
      "train_mse: 26342792.0000\n",
      "train_r2: 0.0681\n",
      "train_smape: 81.8132\n",
      "\n",
      "Epoch 11:\n",
      "val_loss: 85.9063\n",
      "val_mse: 15551260.0000\n",
      "val_r2: 0.0652\n",
      "val_smape: 85.9700\n",
      "train_loss: 80.7623\n",
      "train_mse: 25826006.0000\n",
      "train_r2: 0.0864\n",
      "train_smape: 80.7624\n",
      "\n",
      "Epoch 12:\n",
      "val_loss: 86.7417\n",
      "val_mse: 15621583.0000\n",
      "val_r2: 0.0610\n",
      "val_smape: 86.7813\n",
      "train_loss: 79.8860\n",
      "train_mse: 25804028.0000\n",
      "train_r2: 0.0871\n",
      "train_smape: 79.8860\n",
      "\n",
      "Epoch 13:\n",
      "val_loss: 86.5282\n",
      "val_mse: 15969849.0000\n",
      "val_r2: 0.0401\n",
      "val_smape: 86.6270\n",
      "train_loss: 79.5618\n",
      "train_mse: 25860170.0000\n",
      "train_r2: 0.0851\n",
      "train_smape: 79.5618\n",
      "\n",
      "Epoch 14:\n",
      "val_loss: 85.5133\n",
      "val_mse: 15824242.0000\n",
      "val_r2: 0.0488\n",
      "val_smape: 85.5018\n",
      "train_loss: 78.8651\n",
      "train_mse: 25321386.0000\n",
      "train_r2: 0.1042\n",
      "train_smape: 78.8651\n"
     ]
    },
    {
     "name": "stderr",
     "output_type": "stream",
     "text": [
      "Metric val_loss improved by 0.357 >= min_delta = 0.0001. New best score: 85.076\n"
     ]
    },
    {
     "name": "stdout",
     "output_type": "stream",
     "text": [
      "\n",
      "Epoch 15:\n",
      "val_loss: 85.0760\n",
      "val_mse: 15655880.0000\n",
      "val_r2: 0.0590\n",
      "val_smape: 85.0974\n",
      "train_loss: 77.7143\n",
      "train_mse: 25225566.0000\n",
      "train_r2: 0.1076\n",
      "train_smape: 77.7143\n"
     ]
    },
    {
     "name": "stderr",
     "output_type": "stream",
     "text": [
      "Metric val_loss improved by 0.833 >= min_delta = 0.0001. New best score: 84.243\n"
     ]
    },
    {
     "name": "stdout",
     "output_type": "stream",
     "text": [
      "\n",
      "Epoch 16:\n",
      "val_loss: 84.2428\n",
      "val_mse: 15675469.0000\n",
      "val_r2: 0.0578\n",
      "val_smape: 84.2287\n",
      "train_loss: 77.4237\n",
      "train_mse: 24997428.0000\n",
      "train_r2: 0.1157\n",
      "train_smape: 77.4236\n",
      "\n",
      "Epoch 17:\n",
      "val_loss: 85.4258\n",
      "val_mse: 16353666.0000\n",
      "val_r2: 0.0170\n",
      "val_smape: 85.4124\n",
      "train_loss: 76.7053\n",
      "train_mse: 24996424.0000\n",
      "train_r2: 0.1157\n",
      "train_smape: 76.7053\n"
     ]
    },
    {
     "name": "stderr",
     "output_type": "stream",
     "text": [
      "Metric val_loss improved by 0.205 >= min_delta = 0.0001. New best score: 84.037\n"
     ]
    },
    {
     "name": "stdout",
     "output_type": "stream",
     "text": [
      "\n",
      "Epoch 18:\n",
      "val_loss: 84.0374\n",
      "val_mse: 15597833.0000\n",
      "val_r2: 0.0624\n",
      "val_smape: 84.0771\n",
      "train_loss: 76.4769\n",
      "train_mse: 24235436.0000\n",
      "train_r2: 0.1426\n",
      "train_smape: 76.4770\n"
     ]
    },
    {
     "name": "stderr",
     "output_type": "stream",
     "text": [
      "Metric val_loss improved by 0.420 >= min_delta = 0.0001. New best score: 83.618\n"
     ]
    },
    {
     "name": "stdout",
     "output_type": "stream",
     "text": [
      "\n",
      "Epoch 19:\n",
      "val_loss: 83.6179\n",
      "val_mse: 15968392.0000\n",
      "val_r2: 0.0402\n",
      "val_smape: 83.6150\n",
      "train_loss: 75.5033\n",
      "train_mse: 24517494.0000\n",
      "train_r2: 0.1326\n",
      "train_smape: 75.5033\n",
      "\n",
      "Epoch 20:\n",
      "val_loss: 84.8768\n",
      "val_mse: 16279009.0000\n",
      "val_r2: 0.0215\n",
      "val_smape: 84.8717\n",
      "train_loss: 74.7003\n",
      "train_mse: 24138374.0000\n",
      "train_r2: 0.1461\n",
      "train_smape: 74.7003\n",
      "\n",
      "Epoch 21:\n",
      "val_loss: 83.6233\n",
      "val_mse: 15468081.0000\n",
      "val_r2: 0.0702\n",
      "val_smape: 83.5993\n",
      "train_loss: 74.4599\n",
      "train_mse: 24671280.0000\n",
      "train_r2: 0.1272\n",
      "train_smape: 74.4599\n"
     ]
    },
    {
     "name": "stderr",
     "output_type": "stream",
     "text": [
      "Metric val_loss improved by 0.495 >= min_delta = 0.0001. New best score: 83.123\n"
     ]
    },
    {
     "name": "stdout",
     "output_type": "stream",
     "text": [
      "\n",
      "Epoch 22:\n",
      "val_loss: 83.1231\n",
      "val_mse: 15573246.0000\n",
      "val_r2: 0.0639\n",
      "val_smape: 83.1268\n",
      "train_loss: 74.3296\n",
      "train_mse: 24227692.0000\n",
      "train_r2: 0.1429\n",
      "train_smape: 74.3296\n",
      "\n",
      "Epoch 23:\n",
      "val_loss: 83.5827\n",
      "val_mse: 15808058.0000\n",
      "val_r2: 0.0498\n",
      "val_smape: 83.6999\n",
      "train_loss: 73.4146\n",
      "train_mse: 24229110.0000\n",
      "train_r2: 0.1428\n",
      "train_smape: 73.4146\n"
     ]
    },
    {
     "name": "stderr",
     "output_type": "stream",
     "text": [
      "Metric val_loss improved by 0.089 >= min_delta = 0.0001. New best score: 83.034\n"
     ]
    },
    {
     "name": "stdout",
     "output_type": "stream",
     "text": [
      "\n",
      "Epoch 24:\n",
      "val_loss: 83.0338\n",
      "val_mse: 15508981.0000\n",
      "val_r2: 0.0678\n",
      "val_smape: 83.0678\n",
      "train_loss: 72.8935\n",
      "train_mse: 23990640.0000\n",
      "train_r2: 0.1513\n",
      "train_smape: 72.8934\n",
      "\n",
      "Epoch 25:\n",
      "val_loss: 83.6394\n",
      "val_mse: 15653442.0000\n",
      "val_r2: 0.0591\n",
      "val_smape: 83.5840\n",
      "train_loss: 72.5408\n",
      "train_mse: 23498276.0000\n",
      "train_r2: 0.1687\n",
      "train_smape: 72.5407\n"
     ]
    },
    {
     "name": "stderr",
     "output_type": "stream",
     "text": [
      "Metric val_loss improved by 1.056 >= min_delta = 0.0001. New best score: 81.978\n"
     ]
    },
    {
     "name": "stdout",
     "output_type": "stream",
     "text": [
      "\n",
      "Epoch 26:\n",
      "val_loss: 81.9776\n",
      "val_mse: 14966531.0000\n",
      "val_r2: 0.1004\n",
      "val_smape: 82.0007\n",
      "train_loss: 72.2569\n",
      "train_mse: 23832986.0000\n",
      "train_r2: 0.1569\n",
      "train_smape: 72.2569\n",
      "\n",
      "Epoch 27:\n",
      "val_loss: 83.7498\n",
      "val_mse: 15176992.0000\n",
      "val_r2: 0.0877\n",
      "val_smape: 83.8343\n",
      "train_loss: 72.1624\n",
      "train_mse: 23547376.0000\n",
      "train_r2: 0.1670\n",
      "train_smape: 72.1624\n"
     ]
    },
    {
     "name": "stderr",
     "output_type": "stream",
     "text": [
      "Metric val_loss improved by 0.097 >= min_delta = 0.0001. New best score: 81.881\n"
     ]
    },
    {
     "name": "stdout",
     "output_type": "stream",
     "text": [
      "\n",
      "Epoch 28:\n",
      "val_loss: 81.8805\n",
      "val_mse: 14973450.0000\n",
      "val_r2: 0.1000\n",
      "val_smape: 81.9493\n",
      "train_loss: 71.2960\n",
      "train_mse: 23808960.0000\n",
      "train_r2: 0.1577\n",
      "train_smape: 71.2959\n",
      "\n",
      "Epoch 29:\n",
      "val_loss: 83.5974\n",
      "val_mse: 15725796.0000\n",
      "val_r2: 0.0548\n",
      "val_smape: 83.5679\n",
      "train_loss: 70.8647\n",
      "train_mse: 23105508.0000\n",
      "train_r2: 0.1826\n",
      "train_smape: 70.8647\n",
      "\n",
      "Epoch 30:\n",
      "val_loss: 82.0348\n",
      "val_mse: 15131245.0000\n",
      "val_r2: 0.0905\n",
      "val_smape: 82.0088\n",
      "train_loss: 69.5866\n",
      "train_mse: 23371472.0000\n",
      "train_r2: 0.1732\n",
      "train_smape: 69.5867\n",
      "\n",
      "Epoch 31:\n",
      "val_loss: 82.2517\n",
      "val_mse: 14976712.0000\n",
      "val_r2: 0.0998\n",
      "val_smape: 82.2285\n",
      "train_loss: 70.2868\n",
      "train_mse: 23093314.0000\n",
      "train_r2: 0.1830\n",
      "train_smape: 70.2868\n",
      "\n",
      "Epoch 32:\n",
      "val_loss: 82.2218\n",
      "val_mse: 15163955.0000\n",
      "val_r2: 0.0885\n",
      "val_smape: 82.1686\n",
      "train_loss: 69.2467\n",
      "train_mse: 22627606.0000\n",
      "train_r2: 0.1995\n",
      "train_smape: 69.2467\n",
      "\n",
      "Epoch 33:\n",
      "val_loss: 82.6918\n",
      "val_mse: 15337163.0000\n",
      "val_r2: 0.0781\n",
      "val_smape: 82.7279\n",
      "train_loss: 69.1575\n",
      "train_mse: 22618844.0000\n",
      "train_r2: 0.1998\n",
      "train_smape: 69.1576\n",
      "\n",
      "Epoch 34:\n",
      "val_loss: 82.8963\n",
      "val_mse: 15401013.0000\n",
      "val_r2: 0.0743\n",
      "val_smape: 82.8288\n",
      "train_loss: 69.0161\n",
      "train_mse: 22682656.0000\n",
      "train_r2: 0.1976\n",
      "train_smape: 69.0161\n"
     ]
    },
    {
     "name": "stderr",
     "output_type": "stream",
     "text": [
      "Metric val_loss improved by 0.769 >= min_delta = 0.0001. New best score: 81.111\n"
     ]
    },
    {
     "name": "stdout",
     "output_type": "stream",
     "text": [
      "\n",
      "Epoch 35:\n",
      "val_loss: 81.1112\n",
      "val_mse: 15180213.0000\n",
      "val_r2: 0.0875\n",
      "val_smape: 81.0996\n",
      "train_loss: 68.1707\n",
      "train_mse: 22646412.0000\n",
      "train_r2: 0.1988\n",
      "train_smape: 68.1707\n",
      "\n",
      "Epoch 36:\n",
      "val_loss: 81.2057\n",
      "val_mse: 14894788.0000\n",
      "val_r2: 0.1047\n",
      "val_smape: 81.3113\n",
      "train_loss: 67.5347\n",
      "train_mse: 22294958.0000\n",
      "train_r2: 0.2113\n",
      "train_smape: 67.5347\n"
     ]
    },
    {
     "name": "stderr",
     "output_type": "stream",
     "text": [
      "Metric val_loss improved by 0.730 >= min_delta = 0.0001. New best score: 80.381\n"
     ]
    },
    {
     "name": "stdout",
     "output_type": "stream",
     "text": [
      "\n",
      "Epoch 37:\n",
      "val_loss: 80.3812\n",
      "val_mse: 14449016.0000\n",
      "val_r2: 0.1315\n",
      "val_smape: 80.4772\n",
      "train_loss: 67.4156\n",
      "train_mse: 22494718.0000\n",
      "train_r2: 0.2042\n",
      "train_smape: 67.4156\n",
      "\n",
      "Epoch 38:\n",
      "val_loss: 81.7838\n",
      "val_mse: 14637635.0000\n",
      "val_r2: 0.1202\n",
      "val_smape: 81.9721\n",
      "train_loss: 66.9640\n",
      "train_mse: 21607416.0000\n",
      "train_r2: 0.2356\n",
      "train_smape: 66.9640\n",
      "\n",
      "Epoch 39:\n",
      "val_loss: 80.8899\n",
      "val_mse: 14435106.0000\n",
      "val_r2: 0.1323\n",
      "val_smape: 81.0744\n",
      "train_loss: 67.4114\n",
      "train_mse: 21541484.0000\n",
      "train_r2: 0.2379\n",
      "train_smape: 67.4115\n",
      "\n",
      "Epoch 40:\n",
      "val_loss: 81.2203\n",
      "val_mse: 15063285.0000\n",
      "val_r2: 0.0946\n",
      "val_smape: 81.2511\n",
      "train_loss: 66.3238\n",
      "train_mse: 21482916.0000\n",
      "train_r2: 0.2400\n",
      "train_smape: 66.3239\n",
      "\n",
      "Epoch 41:\n",
      "val_loss: 80.7454\n",
      "val_mse: 14178862.0000\n",
      "val_r2: 0.1477\n",
      "val_smape: 80.8504\n",
      "train_loss: 65.9190\n",
      "train_mse: 21959054.0000\n",
      "train_r2: 0.2232\n",
      "train_smape: 65.9190\n"
     ]
    },
    {
     "name": "stderr",
     "output_type": "stream",
     "text": [
      "Metric val_loss improved by 0.340 >= min_delta = 0.0001. New best score: 80.041\n"
     ]
    },
    {
     "name": "stdout",
     "output_type": "stream",
     "text": [
      "\n",
      "Epoch 42:\n",
      "val_loss: 80.0414\n",
      "val_mse: 14404081.0000\n",
      "val_r2: 0.1342\n",
      "val_smape: 80.2058\n",
      "train_loss: 64.9572\n",
      "train_mse: 21304128.0000\n",
      "train_r2: 0.2463\n",
      "train_smape: 64.9572\n",
      "\n",
      "Epoch 43:\n",
      "val_loss: 80.3163\n",
      "val_mse: 14784548.0000\n",
      "val_r2: 0.1113\n",
      "val_smape: 80.4345\n",
      "train_loss: 65.0470\n",
      "train_mse: 21677978.0000\n",
      "train_r2: 0.2331\n",
      "train_smape: 65.0471\n",
      "\n",
      "Epoch 44:\n",
      "val_loss: 80.2402\n",
      "val_mse: 14332932.0000\n",
      "val_r2: 0.1385\n",
      "val_smape: 80.3926\n",
      "train_loss: 64.5823\n",
      "train_mse: 21309516.0000\n",
      "train_r2: 0.2461\n",
      "train_smape: 64.5823\n"
     ]
    },
    {
     "name": "stderr",
     "output_type": "stream",
     "text": [
      "Metric val_loss improved by 0.371 >= min_delta = 0.0001. New best score: 79.671\n"
     ]
    },
    {
     "name": "stdout",
     "output_type": "stream",
     "text": [
      "\n",
      "Epoch 45:\n",
      "val_loss: 79.6705\n",
      "val_mse: 14412187.0000\n",
      "val_r2: 0.1337\n",
      "val_smape: 79.8063\n",
      "train_loss: 65.3405\n",
      "train_mse: 21484216.0000\n",
      "train_r2: 0.2400\n",
      "train_smape: 65.3405\n"
     ]
    },
    {
     "name": "stderr",
     "output_type": "stream",
     "text": [
      "Metric val_loss improved by 0.532 >= min_delta = 0.0001. New best score: 79.138\n"
     ]
    },
    {
     "name": "stdout",
     "output_type": "stream",
     "text": [
      "\n",
      "Epoch 46:\n",
      "val_loss: 79.1382\n",
      "val_mse: 14187714.0000\n",
      "val_r2: 0.1472\n",
      "val_smape: 79.3205\n",
      "train_loss: 64.1406\n",
      "train_mse: 21733734.0000\n",
      "train_r2: 0.2311\n",
      "train_smape: 64.1406\n"
     ]
    },
    {
     "name": "stderr",
     "output_type": "stream",
     "text": [
      "Metric val_loss improved by 0.864 >= min_delta = 0.0001. New best score: 78.274\n"
     ]
    },
    {
     "name": "stdout",
     "output_type": "stream",
     "text": [
      "\n",
      "Epoch 47:\n",
      "val_loss: 78.2743\n",
      "val_mse: 14329852.0000\n",
      "val_r2: 0.1387\n",
      "val_smape: 78.4483\n",
      "train_loss: 64.4647\n",
      "train_mse: 20827274.0000\n",
      "train_r2: 0.2632\n",
      "train_smape: 64.4647\n",
      "\n",
      "Epoch 48:\n",
      "val_loss: 78.6974\n",
      "val_mse: 14308759.0000\n",
      "val_r2: 0.1399\n",
      "val_smape: 78.8667\n",
      "train_loss: 63.5705\n",
      "train_mse: 20790330.0000\n",
      "train_r2: 0.2645\n",
      "train_smape: 63.5705\n",
      "\n",
      "Epoch 49:\n",
      "val_loss: 79.7963\n",
      "val_mse: 14610399.0000\n",
      "val_r2: 0.1218\n",
      "val_smape: 79.9226\n",
      "train_loss: 62.5653\n",
      "train_mse: 21012572.0000\n",
      "train_r2: 0.2566\n",
      "train_smape: 62.5654\n",
      "\n",
      "Epoch 50:\n",
      "val_loss: 80.0541\n",
      "val_mse: 15032014.0000\n",
      "val_r2: 0.0965\n",
      "val_smape: 80.2346\n",
      "train_loss: 63.3547\n",
      "train_mse: 20723204.0000\n",
      "train_r2: 0.2669\n",
      "train_smape: 63.3546\n",
      "\n",
      "Epoch 51:\n",
      "val_loss: 78.7957\n",
      "val_mse: 14057861.0000\n",
      "val_r2: 0.1550\n",
      "val_smape: 78.9604\n",
      "train_loss: 63.2302\n",
      "train_mse: 20584652.0000\n",
      "train_r2: 0.2718\n",
      "train_smape: 63.2302\n",
      "\n",
      "Epoch 52:\n",
      "val_loss: 78.9479\n",
      "val_mse: 14199594.0000\n",
      "val_r2: 0.1465\n",
      "val_smape: 79.0783\n",
      "train_loss: 62.5412\n",
      "train_mse: 20093656.0000\n",
      "train_r2: 0.2891\n",
      "train_smape: 62.5412\n",
      "\n",
      "Epoch 53:\n",
      "val_loss: 78.4329\n",
      "val_mse: 14159969.0000\n",
      "val_r2: 0.1489\n",
      "val_smape: 78.4980\n",
      "train_loss: 61.8927\n",
      "train_mse: 20007178.0000\n",
      "train_r2: 0.2922\n",
      "train_smape: 61.8927\n",
      "\n",
      "Epoch 54:\n",
      "val_loss: 79.9137\n",
      "val_mse: 14088492.0000\n",
      "val_r2: 0.1532\n",
      "val_smape: 80.0876\n",
      "train_loss: 62.0448\n",
      "train_mse: 20364254.0000\n",
      "train_r2: 0.2796\n",
      "train_smape: 62.0448\n",
      "\n",
      "Epoch 55:\n",
      "val_loss: 79.8255\n",
      "val_mse: 14189226.0000\n",
      "val_r2: 0.1471\n",
      "val_smape: 79.9491\n",
      "train_loss: 61.4816\n",
      "train_mse: 19798370.0000\n",
      "train_r2: 0.2996\n",
      "train_smape: 61.4816\n",
      "\n",
      "Epoch 56:\n",
      "val_loss: 78.4158\n",
      "val_mse: 14201546.0000\n",
      "val_r2: 0.1464\n",
      "val_smape: 78.5324\n",
      "train_loss: 61.3705\n",
      "train_mse: 19817494.0000\n",
      "train_r2: 0.2989\n",
      "train_smape: 61.3705\n"
     ]
    },
    {
     "name": "stderr",
     "output_type": "stream",
     "text": [
      "Monitored metric val_loss did not improve in the last 10 records. Best score: 78.274. Signaling Trainer to stop.\n"
     ]
    },
    {
     "name": "stdout",
     "output_type": "stream",
     "text": [
      "\n",
      "Epoch 57:\n",
      "val_loss: 78.8655\n",
      "val_mse: 14206130.0000\n",
      "val_r2: 0.1461\n",
      "val_smape: 79.0011\n",
      "train_loss: 60.5978\n",
      "train_mse: 19929380.0000\n",
      "train_r2: 0.2950\n",
      "train_smape: 60.5979\n",
      "\n",
      "Regression Metrics (test set):\n",
      "MSE: 14302457.0000\n",
      "RMSE: 3781.8589\n",
      "MAE: 1927.5707\n",
      "R²: 0.1754\n"
     ]
    },
    {
     "data": {
      "image/png": "[encoded data removed]",
      "text/plain": [
       "<Figure size 1500x600 with 2 Axes>"
      ]
     },
     "metadata": {},
     "output_type": "display_data"
    },
    {
     "data": {
      "image/png": "[encoded data removed]",
      "text/plain": [
       "<Figure size 1000x600 with 1 Axes>"
      ]
     },
     "metadata": {},
     "output_type": "display_data"
    }
   ],
   "source": [
    "networks_data = {}\n",
    "data_module, input_size, target_scaler = dr.prepare_regression_data_module(driver_df_amt, 'AMT_Claim', 3)\n",
    "networks_data[\"AMT\"] = {\n",
    "    'model': dr.RegressionNetwork(input_size),\n",
    "    'data_module': data_module\n",
    "}\n",
    "#trainer = pl.Trainer(max_epochs=100)\n",
    "for name, data in networks_data.items():\n",
    "    print(f\"Training {name}\")\n",
    "    model = dr.train_model_with_early_stopping(\n",
    "    model=data['model'],\n",
    "    data_module=data['data_module'],\n",
    "    max_epochs=100,\n",
    "    early_stopping_patience=10,\n",
    "    monitor='val_loss',\n",
    "    mode='min'\n",
    "    )\n",
    "    dr.evaluate_regression_model(model, data_module, split='test')"
   ]
  },
  {
   "cell_type": "code",
   "execution_count": 11,
   "metadata": {},
   "outputs": [
    {
     "data": {
      "text/plain": [
       "<module 'DriverRisk' from '/Users/qinyanghe/Library/Mobile Documents/com~apple~CloudDocs/Documents/driver behavior modeling/DriverRisk.py'>"
      ]
     },
     "execution_count": 11,
     "metadata": {},
     "output_type": "execute_result"
    }
   ],
   "source": [
    "import importlib\n",
    "importlib.reload(dr)"
   ]
  },
  {
   "cell_type": "code",
   "execution_count": 43,
   "metadata": {},
   "outputs": [
    {
     "data": {
      "text/plain": [
       "'fsfass'"
      ]
     },
     "execution_count": 43,
     "metadata": {},
     "output_type": "execute_result"
    }
   ],
   "source": [
    "dr_test()"
   ]
  },
  {
   "cell_type": "code",
   "execution_count": 138,
   "metadata": {},
   "outputs": [],
   "source": [
    "driver_df_3 = driver_df.copy()\n",
    "driver_df_3 = driver_df_3[driver_df_3['NB_Claim'] >= 2]"
   ]
  },
  {
   "cell_type": "code",
   "execution_count": 144,
   "metadata": {},
   "outputs": [
    {
     "data": {
      "text/plain": [
       "0"
      ]
     },
     "execution_count": 144,
     "metadata": {},
     "output_type": "execute_result"
    }
   ],
   "source": [
    "sum(driver_df_3['NB_Claim'] == 3)"
   ]
  },
  {
   "cell_type": "code",
   "execution_count": null,
   "metadata": {},
   "outputs": [],
   "source": []
  },
  {
   "cell_type": "code",
   "execution_count": 148,
   "metadata": {},
   "outputs": [
    {
     "data": {
      "text/plain": [
       "[[4, 5], [1, 2, 3]]"
      ]
     },
     "execution_count": 148,
     "metadata": {},
     "output_type": "execute_result"
    }
   ],
   "source": [
    "arrays = [[1,2,3],[4,5],[1,2,3]]\n",
    "arrays[1:]"
   ]
  },
  {
   "cell_type": "code",
   "execution_count": 1,
   "metadata": {},
   "outputs": [
    {
     "ename": "NameError",
     "evalue": "name 'driver_df_amt' is not defined",
     "output_type": "error",
     "traceback": [
      "\u001b[0;31m---------------------------------------------------------------------------\u001b[0m",
      "\u001b[0;31mNameError\u001b[0m                                 Traceback (most recent call last)",
      "\u001b[1;32m/Users/qinyanghe/Library/Mobile Documents/com~apple~CloudDocs/Documents/driver behavior modeling/DriverRiskNotebook.ipynb Cell 25\u001b[0m line \u001b[0;36m1\n\u001b[0;32m----> <a href='vscode-notebook-cell:/Users/qinyanghe/Library/Mobile%20Documents/com~apple~CloudDocs/Documents/driver%20behavior%20modeling/DriverRiskNotebook.ipynb#X24sZmlsZQ%3D%3D?line=0'>1</a>\u001b[0m driver_df_amt\n",
      "\u001b[0;31mNameError\u001b[0m: name 'driver_df_amt' is not defined"
     ]
    }
   ],
   "source": [
    "driver_df_amt"
   ]
  },
  {
   "cell_type": "code",
   "execution_count": null,
   "metadata": {},
   "outputs": [],
   "source": []
  }
 ],
 "metadata": {
  "kernelspec": {
   "display_name": "MLenvironment",
   "language": "python",
   "name": "python3"
  },
  "language_info": {
   "codemirror_mode": {
    "name": "ipython",
    "version": 3
   },
   "file_extension": ".py",
   "mimetype": "text/x-python",
   "name": "python",
   "nbconvert_exporter": "python",
   "pygments_lexer": "ipython3",
   "version": "3.11.10"
  },
  "orig_nbformat": 4
 },
 "nbformat": 4,
 "nbformat_minor": 2
}
